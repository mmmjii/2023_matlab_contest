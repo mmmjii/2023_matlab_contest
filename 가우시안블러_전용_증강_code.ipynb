{
  "nbformat": 4,
  "nbformat_minor": 0,
  "metadata": {
    "colab": {
      "provenance": []
    },
    "kernelspec": {
      "name": "python3",
      "display_name": "Python 3"
    },
    "language_info": {
      "name": "python"
    }
  },
  "cells": [
    {
      "cell_type": "code",
      "execution_count": null,
      "metadata": {
        "id": "vBlZMEB_qUy4"
      },
      "outputs": [],
      "source": [
        "from google.colab import drive\n",
        "drive.mount('/content/drive')"
      ]
    },
    {
      "cell_type": "markdown",
      "source": [
        "# 가우시안 블러 처리 ( ‘(45, 45)’ 크기의 블러와 ‘0’ 표준편차 값 사용)"
      ],
      "metadata": {
        "id": "c_anfx8GqX9n"
      }
    },
    {
      "cell_type": "code",
      "source": [
        "import cv2\n",
        "import matplotlib.pyplot as plt\n",
        "from tensorflow.keras.preprocessing.image import ImageDataGenerator\n",
        "import numpy as np\n",
        "import os\n",
        "\n",
        "# 이미지가 저장된 디렉토리 경로\n",
        "img_dir_path = '/content/drive/MyDrive/matlab 공모전/data_file/data'\n",
        "\n",
        "#저장할 경로 설정\n",
        "savepath = \"/content/drive/MyDrive/matlab 공모전/data_file/증강 data\"\n",
        "\n",
        "# 디렉토리 내 모든 이미지 파일에 대해 얼굴 특징점을 인식\n",
        "for filename in os.listdir(img_dir_path):\n",
        "    if filename.endswith(\".jpg\") or filename.endswith(\".png\") or filename.endswith(\".JPG\")or filename.endswith(\".jpeg\"):\n",
        "        # 이미지 파일 읽기\n",
        "        img_path = os.path.join(img_dir_path, filename)\n",
        "        image = cv2.cvtColor(cv2.imread(img_path), cv2.COLOR_BGR2RGB)\n",
        "\n",
        "        # Extract base filename and extension\n",
        "        base_filename, ext = os.path.splitext(filename)\n",
        "\n",
        "        plt.imshow(image)\n",
        "\n",
        "        def show_aug_image_batch(image, data_generator, n_images=2):\n",
        "            # reshape input image to (1, height, width, channels) for ImageDataGenerator\n",
        "            image = image.reshape((1,) + image.shape)\n",
        "\n",
        "            # generate batch of augmented images\n",
        "            aug_iter = data_generator.flow(image, batch_size=n_images)\n",
        "\n",
        "            # plot images\n",
        "            fig, axs = plt.subplots(1, n_images, figsize=(24, 8))\n",
        "            for i in range(n_images):\n",
        "                augmented_image = aug_iter.next()[0].astype('uint8')\n",
        "                axs[i].imshow(augmented_image)\n",
        "                axs[i].axis('off')\n",
        "            plt.show()\n",
        "\n",
        "\n",
        "        #5 가우시안 블러 처리 ( ‘(45, 45)’ 크기의 블러와 ‘0’ 표준편차 값 사용)\n",
        "        blur = cv2.GaussianBlur(image, (45, 45), 0)\n",
        "        show_aug_image_batch(blur, data_generator, n_images=2)\n",
        "\n",
        "        #5 가우시안 블러 처리 ( ‘(45, 45)’ 크기의 블러와 ‘0’ 표준편차 값 사용)\n",
        "        blur = cv2.GaussianBlur(image, (45, 45), 0)\n",
        "        aug_iter = data_generator.flow(image.reshape((1,) + image.shape), batch_size=2)\n",
        "        for i in range(2):\n",
        "            augmented_image = aug_iter.next()[0].astype('uint8')\n",
        "            #cv2.imwrite(savepath + f\"{base_filename}_blur45_{i}.jpg\", cv2.cvtColor(augmented_image, cv2.COLOR_RGB2BGR))\n",
        "            new_filename = f\"{base_filename}_blur45_{i}{ext}\"\n",
        "            cv2.imwrite(os.path.join(savepath, new_filename), cv2.cvtColor(augmented_image, cv2.COLOR_RGB2BGR))\n",
        "\n",
        "\n"
      ],
      "metadata": {
        "id": "eoaCry2BqVk_"
      },
      "execution_count": null,
      "outputs": []
    }
  ]
}