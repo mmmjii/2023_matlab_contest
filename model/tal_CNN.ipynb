{
  "nbformat": 4,
  "nbformat_minor": 0,
  "metadata": {
    "colab": {
      "provenance": []
    },
    "kernelspec": {
      "name": "python3",
      "display_name": "Python 3"
    },
    "language_info": {
      "name": "python"
    }
  },
  "cells": [
    {
      "cell_type": "code",
      "source": [
        "from google.colab import drive\n",
        "drive.mount('/content/drive')"
      ],
      "metadata": {
        "id": "TwNAtagfgpVU",
        "colab": {
          "base_uri": "https://localhost:8080/"
        },
        "outputId": "e3926cb1-082b-42cc-d319-0bac72950fff"
      },
      "execution_count": null,
      "outputs": [
        {
          "output_type": "stream",
          "name": "stdout",
          "text": [
            "Drive already mounted at /content/drive; to attempt to forcibly remount, call drive.mount(\"/content/drive\", force_remount=True).\n"
          ]
        }
      ]
    },
    {
      "cell_type": "code",
      "source": [
        "#라이브러리\n",
        "import tensorflow as tf\n",
        "from tensorflow import keras\n",
        "from tensorflow.keras import layers\n",
        "from keras.models import Sequential\n",
        "from keras.layers import Convolution2D, MaxPooling2D\n",
        "from keras.layers import Activation, Dropout, Flatten, Dense\n",
        "import numpy as np\n",
        "from tensorflow.keras.applications.imagenet_utils import preprocess_input\n",
        "from sklearn.model_selection import StratifiedShuffleSplit"
      ],
      "metadata": {
        "id": "vFEBSLkgpZss"
      },
      "execution_count": null,
      "outputs": []
    },
    {
      "cell_type": "code",
      "execution_count": null,
      "metadata": {
        "id": "E-G9Ce2UelnD",
        "colab": {
          "base_uri": "https://localhost:8080/"
        },
        "outputId": "ec6836c7-360e-41d6-83b7-d8cc121a4a6d"
      },
      "outputs": [
        {
          "output_type": "stream",
          "name": "stdout",
          "text": [
            "X_train shape: (11642, 125, 125)\n"
          ]
        }
      ],
      "source": [
        "# 카테고리 지정하기\n",
        "categories = [\"Boone\",\"Yangban\",\"Choraeng\",\"Halmi\"]\n",
        "nb_classes = len(categories)\n",
        "\n",
        "# 데이터 불러오기 --- (※1)\n",
        "X_tr, X_test, y_tr, y_test = np.load(\"/content/drive/MyDrive/matlab 공모전/data_file/npydataset.npy\", allow_pickle=True)\n",
        "print('X_train shape:', X_tr.shape)"
      ]
    },
    {
      "cell_type": "code",
      "source": [
        "y_tr.shape"
      ],
      "metadata": {
        "id": "dTNwkigU2eZz",
        "colab": {
          "base_uri": "https://localhost:8080/"
        },
        "outputId": "6b0b3213-dd42-4ebd-fad9-45552db84b6d"
      },
      "execution_count": null,
      "outputs": [
        {
          "output_type": "execute_result",
          "data": {
            "text/plain": [
              "(11642, 4)"
            ]
          },
          "metadata": {},
          "execution_count": 13
        }
      ]
    },
    {
      "cell_type": "code",
      "source": [
        "X_tr =np.expand_dims(X_tr, axis=3)\n",
        "X_test =np.expand_dims(X_test, axis=3)"
      ],
      "metadata": {
        "id": "BrxhYbfAuunp"
      },
      "execution_count": null,
      "outputs": []
    },
    {
      "cell_type": "code",
      "source": [
        "X_tr.shape #이미지수, 높이, 너비, 채널수"
      ],
      "metadata": {
        "id": "IDYJsOZiuM5o",
        "colab": {
          "base_uri": "https://localhost:8080/"
        },
        "outputId": "7a43b8b6-b0b8-4b8e-b688-7e27a69d634f"
      },
      "execution_count": null,
      "outputs": [
        {
          "output_type": "execute_result",
          "data": {
            "text/plain": [
              "(11642, 125, 125, 1)"
            ]
          },
          "metadata": {},
          "execution_count": 15
        }
      ]
    },
    {
      "cell_type": "code",
      "source": [
        "sss = StratifiedShuffleSplit(test_size=0.1, random_state=0)\n",
        "for train_idx, valid_idx in sss.split(X_tr, y_tr):\n",
        "    X_train = X_tr[train_idx]\n",
        "    X_val = X_tr[valid_idx]\n",
        "    y_train = y_tr[train_idx]\n",
        "    y_val = y_tr[valid_idx]"
      ],
      "metadata": {
        "id": "ItY___r4xpaB"
      },
      "execution_count": null,
      "outputs": []
    },
    {
      "cell_type": "code",
      "source": [
        "y_val.shape"
      ],
      "metadata": {
        "colab": {
          "base_uri": "https://localhost:8080/"
        },
        "id": "XSgDvyhp26d0",
        "outputId": "bcfd598d-89d8-463d-ef2a-9376c17742af"
      },
      "execution_count": null,
      "outputs": [
        {
          "output_type": "execute_result",
          "data": {
            "text/plain": [
              "(1165, 4)"
            ]
          },
          "metadata": {},
          "execution_count": 17
        }
      ]
    },
    {
      "cell_type": "code",
      "source": [
        "X_train.shape"
      ],
      "metadata": {
        "colab": {
          "base_uri": "https://localhost:8080/"
        },
        "id": "8NSOqlZF2_Wl",
        "outputId": "61311aad-3a7a-41ce-b87c-0b369924ad05"
      },
      "execution_count": null,
      "outputs": [
        {
          "output_type": "execute_result",
          "data": {
            "text/plain": [
              "(10477, 125, 125, 1)"
            ]
          },
          "metadata": {},
          "execution_count": 18
        }
      ]
    },
    {
      "cell_type": "code",
      "source": [
        "# 데이터 정규화하기\n",
        "X_train = X_train.astype(\"float\") / 256\n",
        "X_test  = X_test.astype(\"float\")  / 256\n",
        "X_val  = X_val.astype(\"float\")  / 256"
      ],
      "metadata": {
        "id": "DftXnjVNoqQD"
      },
      "execution_count": null,
      "outputs": []
    },
    {
      "cell_type": "code",
      "source": [
        "# 모델 구축하기 --- (※2)\n",
        "model = Sequential()\n",
        "model.add(Convolution2D(8, kernel_size=(3,3), padding='same', input_shape=X_train.shape[1:]))\n",
        "model.add(Activation('relu'))\n",
        "model.add(Convolution2D(16, kernel_size=(3,3), padding='same', input_shape=X_train.shape[1:]))\n",
        "model.add(Activation('relu'))\n",
        "\n",
        "model.add(MaxPooling2D(pool_size=(3,3)))\n",
        "\n",
        "model.add(Convolution2D(32, kernel_size=(3,3), padding='same'))\n",
        "model.add(Activation('relu'))\n",
        "model.add(Convolution2D(32, kernel_size=(3,3), padding='same'))\n",
        "model.add(Activation('relu'))\n",
        "\n",
        "model.add(MaxPooling2D(pool_size=(5, 5), strides=(2, 2), padding='same'))\n",
        "\n",
        "model.add(Convolution2D(64,kernel_size=(3,3), padding='same'))\n",
        "model.add(Activation('relu'))\n",
        "\n",
        "model.add(MaxPooling2D(pool_size=(3, 3)))\n",
        "\n",
        "\n",
        "model.add(Flatten()) # --- (※3)\n",
        "model.add(Dense(200))\n",
        "model.add(Activation('relu'))\n",
        "model.add(Dropout(0.7))\n",
        "\n",
        "model.add(Dense(nb_classes))\n",
        "model.add(Activation('softmax'))\n",
        "\n",
        "model.compile(loss='categorical_crossentropy',\n",
        "    optimizer= 'adam',\n",
        "    metrics=['accuracy'])\n",
        "\n",
        "# 모델 훈련하기 --- (※4)\n",
        "from keras.callbacks import EarlyStopping\n",
        "early_stopping = EarlyStopping(monitor='val_loss', patience=3, verbose=1)\n",
        "\n",
        "cnn1 = model.fit(X_train, y_train, batch_size=32, epochs=16, validation_data=(X_val, y_val), callbacks=[early_stopping]) #])\n",
        "\n",
        "print(cnn1.history['loss'])\n",
        "print(cnn1.history['acc'])\n",
        "print(cnn1.history['val_loss'])\n",
        "print(cnn1.history['val_acc'])\n",
        "\n"
      ],
      "metadata": {
        "id": "LYH_fxK9f5-s",
        "colab": {
          "base_uri": "https://localhost:8080/",
          "height": 728
        },
        "outputId": "bd6a06e9-6a6a-454e-907f-4cdf57a9b3a3"
      },
      "execution_count": null,
      "outputs": [
        {
          "output_type": "stream",
          "name": "stdout",
          "text": [
            "Epoch 1/16\n",
            "328/328 [==============================] - 275s 821ms/step - loss: 1.3797 - accuracy: 0.2836 - val_loss: 1.3775 - val_accuracy: 0.2893\n",
            "Epoch 2/16\n",
            "328/328 [==============================] - 254s 776ms/step - loss: 1.3544 - accuracy: 0.3207 - val_loss: 1.2859 - val_accuracy: 0.4172\n",
            "Epoch 3/16\n",
            "328/328 [==============================] - 253s 770ms/step - loss: 1.1573 - accuracy: 0.4739 - val_loss: 0.9855 - val_accuracy: 0.5502\n",
            "Epoch 4/16\n",
            "328/328 [==============================] - 249s 760ms/step - loss: 0.9572 - accuracy: 0.5854 - val_loss: 0.7774 - val_accuracy: 0.6764\n",
            "Epoch 5/16\n",
            "328/328 [==============================] - 248s 758ms/step - loss: 0.7707 - accuracy: 0.6750 - val_loss: 0.6053 - val_accuracy: 0.7923\n",
            "Epoch 6/16\n",
            "328/328 [==============================] - 253s 771ms/step - loss: 0.5901 - accuracy: 0.7593 - val_loss: 0.4856 - val_accuracy: 0.8189\n",
            "Epoch 7/16\n",
            "328/328 [==============================] - 255s 778ms/step - loss: 0.4657 - accuracy: 0.8163 - val_loss: 0.3236 - val_accuracy: 0.8970\n",
            "Epoch 8/16\n",
            "328/328 [==============================] - 253s 769ms/step - loss: 0.3731 - accuracy: 0.8508 - val_loss: 0.2676 - val_accuracy: 0.9073\n",
            "Epoch 9/16\n",
            "328/328 [==============================] - 251s 766ms/step - loss: 0.3155 - accuracy: 0.8714 - val_loss: 0.2381 - val_accuracy: 0.9210\n",
            "Epoch 10/16\n",
            "328/328 [==============================] - 254s 775ms/step - loss: 0.2790 - accuracy: 0.8899 - val_loss: 0.2019 - val_accuracy: 0.9382\n",
            "Epoch 11/16\n",
            "328/328 [==============================] - 251s 763ms/step - loss: 0.2462 - accuracy: 0.9022 - val_loss: 0.2174 - val_accuracy: 0.9365\n",
            "Epoch 12/16\n",
            "328/328 [==============================] - 252s 768ms/step - loss: 0.2299 - accuracy: 0.9088 - val_loss: 0.2340 - val_accuracy: 0.9296\n",
            "Epoch 13/16\n",
            "328/328 [==============================] - 252s 769ms/step - loss: 0.2053 - accuracy: 0.9185 - val_loss: 0.2141 - val_accuracy: 0.9365\n",
            "Epoch 13: early stopping\n",
            "[1.379683256149292, 1.3544186353683472, 1.1572686433792114, 0.9572169184684753, 0.7706629633903503, 0.5900562405586243, 0.4657483994960785, 0.37312769889831543, 0.3155241310596466, 0.2789919972419739, 0.2462032288312912, 0.22990736365318298, 0.20527014136314392]\n"
          ]
        },
        {
          "output_type": "error",
          "ename": "KeyError",
          "evalue": "ignored",
          "traceback": [
            "\u001b[0;31m---------------------------------------------------------------------------\u001b[0m",
            "\u001b[0;31mKeyError\u001b[0m                                  Traceback (most recent call last)",
            "\u001b[0;32m<ipython-input-20-9b51f2e5121b>\u001b[0m in \u001b[0;36m<cell line: 44>\u001b[0;34m()\u001b[0m\n\u001b[1;32m     42\u001b[0m \u001b[0;34m\u001b[0m\u001b[0m\n\u001b[1;32m     43\u001b[0m \u001b[0mprint\u001b[0m\u001b[0;34m(\u001b[0m\u001b[0mcnn1\u001b[0m\u001b[0;34m.\u001b[0m\u001b[0mhistory\u001b[0m\u001b[0;34m[\u001b[0m\u001b[0;34m'loss'\u001b[0m\u001b[0;34m]\u001b[0m\u001b[0;34m)\u001b[0m\u001b[0;34m\u001b[0m\u001b[0;34m\u001b[0m\u001b[0m\n\u001b[0;32m---> 44\u001b[0;31m \u001b[0mprint\u001b[0m\u001b[0;34m(\u001b[0m\u001b[0mcnn1\u001b[0m\u001b[0;34m.\u001b[0m\u001b[0mhistory\u001b[0m\u001b[0;34m[\u001b[0m\u001b[0;34m'acc'\u001b[0m\u001b[0;34m]\u001b[0m\u001b[0;34m)\u001b[0m\u001b[0;34m\u001b[0m\u001b[0;34m\u001b[0m\u001b[0m\n\u001b[0m\u001b[1;32m     45\u001b[0m \u001b[0mprint\u001b[0m\u001b[0;34m(\u001b[0m\u001b[0mcnn1\u001b[0m\u001b[0;34m.\u001b[0m\u001b[0mhistory\u001b[0m\u001b[0;34m[\u001b[0m\u001b[0;34m'val_loss'\u001b[0m\u001b[0;34m]\u001b[0m\u001b[0;34m)\u001b[0m\u001b[0;34m\u001b[0m\u001b[0;34m\u001b[0m\u001b[0m\n\u001b[1;32m     46\u001b[0m \u001b[0mprint\u001b[0m\u001b[0;34m(\u001b[0m\u001b[0mcnn1\u001b[0m\u001b[0;34m.\u001b[0m\u001b[0mhistory\u001b[0m\u001b[0;34m[\u001b[0m\u001b[0;34m'val_acc'\u001b[0m\u001b[0;34m]\u001b[0m\u001b[0;34m)\u001b[0m\u001b[0;34m\u001b[0m\u001b[0;34m\u001b[0m\u001b[0m\n",
            "\u001b[0;31mKeyError\u001b[0m: 'acc'"
          ]
        }
      ]
    },
    {
      "cell_type": "code",
      "source": [
        "# 모델 평가하기--- (※5)\n",
        "score = model.evaluate(X_test, y_test)\n",
        "print('loss=', score[0])\n",
        "print('accuracy=', score[1])"
      ],
      "metadata": {
        "id": "W4GaGXFH6odL",
        "colab": {
          "base_uri": "https://localhost:8080/"
        },
        "outputId": "52de5c52-fdc9-49b7-c1a7-0dfe3881c6bd"
      },
      "execution_count": null,
      "outputs": [
        {
          "output_type": "stream",
          "name": "stdout",
          "text": [
            "91/91 [==============================] - 17s 182ms/step - loss: 0.2238 - accuracy: 0.9292\n",
            "loss= 0.22383475303649902\n",
            "accuracy= 0.929233968257904\n"
          ]
        }
      ]
    },
    {
      "cell_type": "code",
      "source": [
        "model.save('/content/drive/MyDrive/matlab 공모전/data_file/cnn1.h5')"
      ],
      "metadata": {
        "id": "GyKhngrAmAXq"
      },
      "execution_count": null,
      "outputs": []
    },
    {
      "cell_type": "code",
      "source": [
        "import matplotlib.pyplot as plt\n",
        "\n",
        "# 모델 저장\n",
        "\n",
        "# 학습과정 그래프\n",
        "fig, loss_ax = plt.subplots()\n",
        "\n",
        "acc_ax = loss_ax.twinx()\n",
        "\n",
        "loss_ax.plot(cnn1.history['loss'], 'y', label='train loss')\n",
        "loss_ax.plot(cnn1.history['val_loss'], 'r', label='val loss')\n",
        "loss_ax.set_ylim([-0.2, 1.38])\n",
        "\n",
        "acc_ax.plot(cnn1.history['accuracy'], 'b', label='train acc')\n",
        "acc_ax.plot(cnn1.history['val_accuracy'], 'g', label='val acc')\n",
        "acc_ax.set_ylim([-0.2, 1.38])\n",
        "\n",
        "loss_ax.set_xlabel('epoch')\n",
        "loss_ax.set_ylabel('loss')\n",
        "acc_ax.set_ylabel('accuracy')\n",
        "\n",
        "loss_ax.legend(loc='upper left')\n",
        "acc_ax.legend(loc='lower left')\n",
        "\n",
        "fig = plt.gcf()\n",
        "plt.show()\n",
        "fig.savefig('.png', bbox_inches='tight')"
      ],
      "metadata": {
        "colab": {
          "base_uri": "https://localhost:8080/",
          "height": 449
        },
        "id": "mlYuWEDANFH4",
        "outputId": "f767b33d-22a8-4ebe-86d1-09d362015d8d"
      },
      "execution_count": null,
      "outputs": [
        {
          "output_type": "display_data",
          "data": {
            "text/plain": [
              "<Figure size 640x480 with 2 Axes>"
            ],
            "image/png": "[encoded data removed]"
          },
          "metadata": {}
        }
      ]
    },
    {
      "cell_type": "code",
      "source": [
        "#모델 불러오기\n",
        "from keras.models import load_model\n",
        "cnn1_test = load_model('/content/drive/MyDrive/matlab 공모전/data_file/cnn1.h5')"
      ],
      "metadata": {
        "id": "-tpJKK8jWncB"
      },
      "execution_count": null,
      "outputs": []
    },
    {
      "cell_type": "code",
      "source": [
        "from keras.utils.image_dataset import load_image\n",
        "#새 데이터를 예측\n",
        "import tensorflow as tf\n",
        "import keras\n",
        "from tensorflow.keras.applications.vgg16 import preprocess_input\n",
        "from tensorflow.keras.preprocessing import image\n",
        "\n",
        "import matplotlib.pyplot as plt\n",
        "from PIL import Image\n",
        "from tensorflow.keras.applications.imagenet_utils import decode_predictions\n",
        "from tensorflow.keras.applications.imagenet_utils import preprocess_input\n",
        "import numpy as np\n",
        "\n",
        "img1= Image.open(\"/content/drive/MyDrive/matlab 공모전/new_data/use_front_1.jpg\")\n",
        "img2 = Image.open(\"/content/drive/MyDrive/matlab 공모전/new_data/use_front_2.jpg\")\n",
        "\n",
        "img1 = img1.convert(\"L\")\n",
        "img1 = img1.resize((125, 125))\n",
        "img2 = img2.convert(\"L\")\n",
        "img2 = img2.resize((125, 125))"
      ],
      "metadata": {
        "id": "LXoltgkWiVor"
      },
      "execution_count": null,
      "outputs": []
    },
    {
      "cell_type": "code",
      "source": [
        "np_img1 = np.array(img1)\n",
        "np_img2 = np.array(img2)\n",
        "\n",
        "img_batch1 = np.expand_dims(np_img1, axis=0)\n",
        "img_batch2 = np.expand_dims(np_img2, axis=0)"
      ],
      "metadata": {
        "id": "ZZMJH34nmxBa"
      },
      "execution_count": null,
      "outputs": []
    },
    {
      "cell_type": "code",
      "source": [
        "img_batch1 = np.expand_dims(img_batch1, axis=3)\n",
        "img_batch2 = np.expand_dims(img_batch2, axis=3)"
      ],
      "metadata": {
        "id": "hYZgwsPsoG0J"
      },
      "execution_count": null,
      "outputs": []
    },
    {
      "cell_type": "code",
      "source": [
        "img_batch1.shape"
      ],
      "metadata": {
        "colab": {
          "base_uri": "https://localhost:8080/"
        },
        "id": "U-vmVjb5n4hv",
        "outputId": "12d07299-9352-49b4-ce0c-680ffe8fda68"
      },
      "execution_count": null,
      "outputs": [
        {
          "output_type": "execute_result",
          "data": {
            "text/plain": [
              "(1, 125, 125, 1)"
            ]
          },
          "metadata": {},
          "execution_count": 43
        }
      ]
    },
    {
      "cell_type": "code",
      "source": [
        "img_batch1 = img_batch1.astype(\"float\") / 256\n",
        "img_batch2 = img_batch2.astype(\"float\") / 256"
      ],
      "metadata": {
        "id": "jB1k0dMeoYzq"
      },
      "execution_count": null,
      "outputs": []
    },
    {
      "cell_type": "code",
      "source": [
        "y_pred1 = cnn1_test.predict(img_batch1)\n",
        "y_pred1\n",
        "\n",
        "#가장 확률이 높은 값\n",
        "#np.max(y_pred2)\n",
        "#np.set_printoptions(suppress=True, precision=10)"
      ],
      "metadata": {
        "colab": {
          "base_uri": "https://localhost:8080/"
        },
        "id": "Q1C8LDEsmaCg",
        "outputId": "4e96d4d1-4e36-4d6a-cf7e-702ec7191516"
      },
      "execution_count": null,
      "outputs": [
        {
          "output_type": "stream",
          "name": "stdout",
          "text": [
            "1/1 [==============================] - 0s 56ms/step\n"
          ]
        },
        {
          "output_type": "execute_result",
          "data": {
            "text/plain": [
              "array([[0.24878058, 0.47655463, 0.2517295 , 0.0229353 ]], dtype=float32)"
            ]
          },
          "metadata": {},
          "execution_count": 52
        }
      ]
    },
    {
      "cell_type": "code",
      "source": [
        "y_pred2 = cnn1_test.predict(img_batch2)\n",
        "y_pred2"
      ],
      "metadata": {
        "colab": {
          "base_uri": "https://localhost:8080/"
        },
        "id": "VdyJnNDvjpSB",
        "outputId": "2e25b429-ef05-4807-ab61-d943795b4988"
      },
      "execution_count": null,
      "outputs": [
        {
          "output_type": "stream",
          "name": "stdout",
          "text": [
            "1/1 [==============================] - 0s 32ms/step\n"
          ]
        },
        {
          "output_type": "execute_result",
          "data": {
            "text/plain": [
              "array([[7.9852104e-01, 2.0147640e-01, 2.0274649e-07, 2.3352641e-06]],\n",
              "      dtype=float32)"
            ]
          },
          "metadata": {},
          "execution_count": 53
        }
      ]
    },
    {
      "cell_type": "code",
      "source": [
        "np.max(y_pred1)"
      ],
      "metadata": {
        "colab": {
          "base_uri": "https://localhost:8080/"
        },
        "id": "DE5Dr_NvpTtc",
        "outputId": "b4bb69a9-ab89-4929-a952-93104f6335b6"
      },
      "execution_count": null,
      "outputs": [
        {
          "output_type": "execute_result",
          "data": {
            "text/plain": [
              "0.47655463"
            ]
          },
          "metadata": {},
          "execution_count": 54
        }
      ]
    },
    {
      "cell_type": "code",
      "source": [
        "np.max(y_pred2)"
      ],
      "metadata": {
        "colab": {
          "base_uri": "https://localhost:8080/"
        },
        "id": "XZdQvW7gpU-w",
        "outputId": "edecc1f1-ea83-466d-9edd-3a3474054718"
      },
      "execution_count": null,
      "outputs": [
        {
          "output_type": "execute_result",
          "data": {
            "text/plain": [
              "0.79852104"
            ]
          },
          "metadata": {},
          "execution_count": 55
        }
      ]
    }
  ]
}
