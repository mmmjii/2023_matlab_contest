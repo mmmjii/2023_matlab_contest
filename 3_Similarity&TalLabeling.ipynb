{
  "nbformat": 4,
  "nbformat_minor": 0,
  "metadata": {
    "colab": {
      "provenance": []
    },
    "kernelspec": {
      "name": "python3",
      "display_name": "Python 3"
    },
    "language_info": {
      "name": "python"
    }
  },
  "cells": [
    {
      "cell_type": "code",
      "source": [
        "from google.colab import drive\n",
        "drive.mount('/content/drive')"
      ],
      "metadata": {
        "colab": {
          "base_uri": "https://localhost:8080/"
        },
        "id": "nHNaUbQvRF9U",
        "outputId": "1572af80-0ded-4615-f6ea-830a9ce0f88b"
      },
      "execution_count": null,
      "outputs": [
        {
          "output_type": "stream",
          "name": "stdout",
          "text": [
            "Mounted at /content/drive\n"
          ]
        }
      ]
    },
    {
      "cell_type": "code",
      "execution_count": null,
      "metadata": {
        "id": "wNl3-citPrLF"
      },
      "outputs": [],
      "source": [
        "import pandas as pd\n",
        "from scipy.spatial import distance"
      ]
    },
    {
      "cell_type": "markdown",
      "source": [
        "##1. 특성값 csv를 드라이브에서 불러오기"
      ],
      "metadata": {
        "id": "8nWvnTbX1A8y"
      }
    },
    {
      "cell_type": "code",
      "source": [
        "#데이터 불러오기\n",
        "import pandas as pd\n",
        "dfren = pd.read_csv(\"/content/drive/MyDrive/matlab 공모전/csv(표)/원본1369장csv/Origin_feature_1369.csv\")\n",
        "filename = dfren['filename']\n",
        "dfren = dfren.drop(dfren.columns[[0]], axis=1)\n",
        "dfren = dfren.drop('filename', axis = 'columns')\n",
        "dftal = pd.read_csv(\"/content/drive/MyDrive/matlab 공모전/csv(표)/tal_feature.csv\")\n",
        "dftal= dftal.drop(dftal.columns[[0]], axis=1)"
      ],
      "metadata": {
        "id": "H8_0A9t4REYx"
      },
      "execution_count": null,
      "outputs": []
    },
    {
      "cell_type": "code",
      "source": [
        "dfren"
      ],
      "metadata": {
        "colab": {
          "base_uri": "https://localhost:8080/",
          "height": 419
        },
        "id": "EpXqqEphfg4S",
        "outputId": "efcc05b0-5bd2-403a-ac6b-f2d8cdceb110"
      },
      "execution_count": null,
      "outputs": [
        {
          "output_type": "execute_result",
          "data": {
            "text/plain": [
              "      leye_ratio  reye_ratio  eye_angle  nose_ratio  chin_sharp\n",
              "0       0.291087    0.277456  -0.959569    0.487660   -0.326441\n",
              "1       0.312500    0.292103  -0.993151    0.499041   -0.549605\n",
              "2       0.278733    0.264470  -0.998460    0.545455   -0.679607\n",
              "3       0.333974    0.334489  -0.998460    0.657495   -0.752028\n",
              "4       0.295075    0.295075  -0.993103    0.485714   -0.834348\n",
              "...          ...         ...        ...         ...         ...\n",
              "1364    0.324303    0.344495  -0.992667    0.546296   -0.564007\n",
              "1365    0.278733    0.278733  -1.000000    0.575499   -0.773055\n",
              "1366    0.221880    0.231714  -0.992907    0.595868   -0.601374\n",
              "1367    0.236716    0.251455  -0.999993    0.602408   -0.778671\n",
              "1368    0.333974    0.332443  -0.986228    0.459292   -0.501240\n",
              "\n",
              "[1369 rows x 5 columns]"
            ],
            "text/html": [
              "\n",
              "\n",
              "  <div id=\"df-8f9f10db-dc05-48ec-a348-b538c55a1a16\">\n",
              "    <div class=\"colab-df-container\">\n",
              "      <div>\n",
              "<style scoped>\n",
              "    .dataframe tbody tr th:only-of-type {\n",
              "        vertical-align: middle;\n",
              "    }\n",
              "\n",
              "    .dataframe tbody tr th {\n",
              "        vertical-align: top;\n",
              "    }\n",
              "\n",
              "    .dataframe thead th {\n",
              "        text-align: right;\n",
              "    }\n",
              "</style>\n",
              "<table border=\"1\" class=\"dataframe\">\n",
              "  <thead>\n",
              "    <tr style=\"text-align: right;\">\n",
              "      <th></th>\n",
              "      <th>leye_ratio</th>\n",
              "      <th>reye_ratio</th>\n",
              "      <th>eye_angle</th>\n",
              "      <th>nose_ratio</th>\n",
              "      <th>chin_sharp</th>\n",
              "    </tr>\n",
              "  </thead>\n",
              "  <tbody>\n",
              "    <tr>\n",
              "      <th>0</th>\n",
              "      <td>0.291087</td>\n",
              "      <td>0.277456</td>\n",
              "      <td>-0.959569</td>\n",
              "      <td>0.487660</td>\n",
              "      <td>-0.326441</td>\n",
              "    </tr>\n",
              "    <tr>\n",
              "      <th>1</th>\n",
              "      <td>0.312500</td>\n",
              "      <td>0.292103</td>\n",
              "      <td>-0.993151</td>\n",
              "      <td>0.499041</td>\n",
              "      <td>-0.549605</td>\n",
              "    </tr>\n",
              "    <tr>\n",
              "      <th>2</th>\n",
              "      <td>0.278733</td>\n",
              "      <td>0.264470</td>\n",
              "      <td>-0.998460</td>\n",
              "      <td>0.545455</td>\n",
              "      <td>-0.679607</td>\n",
              "    </tr>\n",
              "    <tr>\n",
              "      <th>3</th>\n",
              "      <td>0.333974</td>\n",
              "      <td>0.334489</td>\n",
              "      <td>-0.998460</td>\n",
              "      <td>0.657495</td>\n",
              "      <td>-0.752028</td>\n",
              "    </tr>\n",
              "    <tr>\n",
              "      <th>4</th>\n",
              "      <td>0.295075</td>\n",
              "      <td>0.295075</td>\n",
              "      <td>-0.993103</td>\n",
              "      <td>0.485714</td>\n",
              "      <td>-0.834348</td>\n",
              "    </tr>\n",
              "    <tr>\n",
              "      <th>...</th>\n",
              "      <td>...</td>\n",
              "      <td>...</td>\n",
              "      <td>...</td>\n",
              "      <td>...</td>\n",
              "      <td>...</td>\n",
              "    </tr>\n",
              "    <tr>\n",
              "      <th>1364</th>\n",
              "      <td>0.324303</td>\n",
              "      <td>0.344495</td>\n",
              "      <td>-0.992667</td>\n",
              "      <td>0.546296</td>\n",
              "      <td>-0.564007</td>\n",
              "    </tr>\n",
              "    <tr>\n",
              "      <th>1365</th>\n",
              "      <td>0.278733</td>\n",
              "      <td>0.278733</td>\n",
              "      <td>-1.000000</td>\n",
              "      <td>0.575499</td>\n",
              "      <td>-0.773055</td>\n",
              "    </tr>\n",
              "    <tr>\n",
              "      <th>1366</th>\n",
              "      <td>0.221880</td>\n",
              "      <td>0.231714</td>\n",
              "      <td>-0.992907</td>\n",
              "      <td>0.595868</td>\n",
              "      <td>-0.601374</td>\n",
              "    </tr>\n",
              "    <tr>\n",
              "      <th>1367</th>\n",
              "      <td>0.236716</td>\n",
              "      <td>0.251455</td>\n",
              "      <td>-0.999993</td>\n",
              "      <td>0.602408</td>\n",
              "      <td>-0.778671</td>\n",
              "    </tr>\n",
              "    <tr>\n",
              "      <th>1368</th>\n",
              "      <td>0.333974</td>\n",
              "      <td>0.332443</td>\n",
              "      <td>-0.986228</td>\n",
              "      <td>0.459292</td>\n",
              "      <td>-0.501240</td>\n",
              "    </tr>\n",
              "  </tbody>\n",
              "</table>\n",
              "<p>1369 rows × 5 columns</p>\n",
              "</div>\n",
              "      <button class=\"colab-df-convert\" onclick=\"convertToInteractive('df-8f9f10db-dc05-48ec-a348-b538c55a1a16')\"\n",
              "              title=\"Convert this dataframe to an interactive table.\"\n",
              "              style=\"display:none;\">\n",
              "\n",
              "  <svg xmlns=\"http://www.w3.org/2000/svg\" height=\"24px\"viewBox=\"0 0 24 24\"\n",
              "       width=\"24px\">\n",
              "    <path d=\"M0 0h24v24H0V0z\" fill=\"none\"/>\n",
              "    <path d=\"M18.56 5.44l.94 2.06.94-2.06 2.06-.94-2.06-.94-.94-2.06-.94 2.06-2.06.94zm-11 1L8.5 8.5l.94-2.06 2.06-.94-2.06-.94L8.5 2.5l-.94 2.06-2.06.94zm10 10l.94 2.06.94-2.06 2.06-.94-2.06-.94-.94-2.06-.94 2.06-2.06.94z\"/><path d=\"M17.41 7.96l-1.37-1.37c-.4-.4-.92-.59-1.43-.59-.52 0-1.04.2-1.43.59L10.3 9.45l-7.72 7.72c-.78.78-.78 2.05 0 2.83L4 21.41c.39.39.9.59 1.41.59.51 0 1.02-.2 1.41-.59l7.78-7.78 2.81-2.81c.8-.78.8-2.07 0-2.86zM5.41 20L4 18.59l7.72-7.72 1.47 1.35L5.41 20z\"/>\n",
              "  </svg>\n",
              "      </button>\n",
              "\n",
              "\n",
              "\n",
              "    <div id=\"df-003b6526-8b76-4757-8f0a-b6178a1bf1c5\">\n",
              "      <button class=\"colab-df-quickchart\" onclick=\"quickchart('df-003b6526-8b76-4757-8f0a-b6178a1bf1c5')\"\n",
              "              title=\"Suggest charts.\"\n",
              "              style=\"display:none;\">\n",
              "\n",
              "<svg xmlns=\"http://www.w3.org/2000/svg\" height=\"24px\"viewBox=\"0 0 24 24\"\n",
              "     width=\"24px\">\n",
              "    <g>\n",
              "        <path d=\"M19 3H5c-1.1 0-2 .9-2 2v14c0 1.1.9 2 2 2h14c1.1 0 2-.9 2-2V5c0-1.1-.9-2-2-2zM9 17H7v-7h2v7zm4 0h-2V7h2v10zm4 0h-2v-4h2v4z\"/>\n",
              "    </g>\n",
              "</svg>\n",
              "      </button>\n",
              "    </div>\n",
              "\n",
              "<style>\n",
              "  .colab-df-quickchart {\n",
              "    background-color: #E8F0FE;\n",
              "    border: none;\n",
              "    border-radius: 50%;\n",
              "    cursor: pointer;\n",
              "    display: none;\n",
              "    fill: #1967D2;\n",
              "    height: 32px;\n",
              "    padding: 0 0 0 0;\n",
              "    width: 32px;\n",
              "  }\n",
              "\n",
              "  .colab-df-quickchart:hover {\n",
              "    background-color: #E2EBFA;\n",
              "    box-shadow: 0px 1px 2px rgba(60, 64, 67, 0.3), 0px 1px 3px 1px rgba(60, 64, 67, 0.15);\n",
              "    fill: #174EA6;\n",
              "  }\n",
              "\n",
              "  [theme=dark] .colab-df-quickchart {\n",
              "    background-color: #3B4455;\n",
              "    fill: #D2E3FC;\n",
              "  }\n",
              "\n",
              "  [theme=dark] .colab-df-quickchart:hover {\n",
              "    background-color: #434B5C;\n",
              "    box-shadow: 0px 1px 3px 1px rgba(0, 0, 0, 0.15);\n",
              "    filter: drop-shadow(0px 1px 2px rgba(0, 0, 0, 0.3));\n",
              "    fill: #FFFFFF;\n",
              "  }\n",
              "</style>\n",
              "\n",
              "    <script>\n",
              "      async function quickchart(key) {\n",
              "        const containerElement = document.querySelector('#' + key);\n",
              "        const charts = await google.colab.kernel.invokeFunction(\n",
              "            'suggestCharts', [key], {});\n",
              "      }\n",
              "    </script>\n",
              "\n",
              "      <script>\n",
              "\n",
              "function displayQuickchartButton(domScope) {\n",
              "  let quickchartButtonEl =\n",
              "    domScope.querySelector('#df-003b6526-8b76-4757-8f0a-b6178a1bf1c5 button.colab-df-quickchart');\n",
              "  quickchartButtonEl.style.display =\n",
              "    google.colab.kernel.accessAllowed ? 'block' : 'none';\n",
              "}\n",
              "\n",
              "        displayQuickchartButton(document);\n",
              "      </script>\n",
              "      <style>\n",
              "    .colab-df-container {\n",
              "      display:flex;\n",
              "      flex-wrap:wrap;\n",
              "      gap: 12px;\n",
              "    }\n",
              "\n",
              "    .colab-df-convert {\n",
              "      background-color: #E8F0FE;\n",
              "      border: none;\n",
              "      border-radius: 50%;\n",
              "      cursor: pointer;\n",
              "      display: none;\n",
              "      fill: #1967D2;\n",
              "      height: 32px;\n",
              "      padding: 0 0 0 0;\n",
              "      width: 32px;\n",
              "    }\n",
              "\n",
              "    .colab-df-convert:hover {\n",
              "      background-color: #E2EBFA;\n",
              "      box-shadow: 0px 1px 2px rgba(60, 64, 67, 0.3), 0px 1px 3px 1px rgba(60, 64, 67, 0.15);\n",
              "      fill: #174EA6;\n",
              "    }\n",
              "\n",
              "    [theme=dark] .colab-df-convert {\n",
              "      background-color: #3B4455;\n",
              "      fill: #D2E3FC;\n",
              "    }\n",
              "\n",
              "    [theme=dark] .colab-df-convert:hover {\n",
              "      background-color: #434B5C;\n",
              "      box-shadow: 0px 1px 3px 1px rgba(0, 0, 0, 0.15);\n",
              "      filter: drop-shadow(0px 1px 2px rgba(0, 0, 0, 0.3));\n",
              "      fill: #FFFFFF;\n",
              "    }\n",
              "  </style>\n",
              "\n",
              "      <script>\n",
              "        const buttonEl =\n",
              "          document.querySelector('#df-8f9f10db-dc05-48ec-a348-b538c55a1a16 button.colab-df-convert');\n",
              "        buttonEl.style.display =\n",
              "          google.colab.kernel.accessAllowed ? 'block' : 'none';\n",
              "\n",
              "        async function convertToInteractive(key) {\n",
              "          const element = document.querySelector('#df-8f9f10db-dc05-48ec-a348-b538c55a1a16');\n",
              "          const dataTable =\n",
              "            await google.colab.kernel.invokeFunction('convertToInteractive',\n",
              "                                                     [key], {});\n",
              "          if (!dataTable) return;\n",
              "\n",
              "          const docLinkHtml = 'Like what you see? Visit the ' +\n",
              "            '<a target=\"_blank\" href=https://colab.research.google.com/notebooks/data_table.ipynb>data table notebook</a>'\n",
              "            + ' to learn more about interactive tables.';\n",
              "          element.innerHTML = '';\n",
              "          dataTable['output_type'] = 'display_data';\n",
              "          await google.colab.output.renderOutput(dataTable, element);\n",
              "          const docLink = document.createElement('div');\n",
              "          docLink.innerHTML = docLinkHtml;\n",
              "          element.appendChild(docLink);\n",
              "        }\n",
              "      </script>\n",
              "    </div>\n",
              "  </div>\n"
            ]
          },
          "metadata": {},
          "execution_count": 12
        }
      ]
    },
    {
      "cell_type": "code",
      "source": [
        "dftal"
      ],
      "metadata": {
        "colab": {
          "base_uri": "https://localhost:8080/",
          "height": 173
        },
        "id": "ifWt50zNfWcE",
        "outputId": "99198a55-0efb-401c-ef9e-9cc4868a4980"
      },
      "execution_count": null,
      "outputs": [
        {
          "output_type": "execute_result",
          "data": {
            "text/plain": [
              "   leye_ratio  reye_ratio  eye_angle  nose_ratio  chin_sharp\n",
              "0    0.147070    0.153448   0.614285    0.449289    0.402747\n",
              "1    0.145130    0.152619   0.674302    1.125857    0.224951\n",
              "2    0.866774    0.751130   0.489382    1.367977    0.111469\n",
              "3    0.612834    0.559312   0.629320    0.863254    0.230050"
            ],
            "text/html": [
              "\n",
              "\n",
              "  <div id=\"df-cb8e553c-081f-40f3-b8b6-1e826a9da6fb\">\n",
              "    <div class=\"colab-df-container\">\n",
              "      <div>\n",
              "<style scoped>\n",
              "    .dataframe tbody tr th:only-of-type {\n",
              "        vertical-align: middle;\n",
              "    }\n",
              "\n",
              "    .dataframe tbody tr th {\n",
              "        vertical-align: top;\n",
              "    }\n",
              "\n",
              "    .dataframe thead th {\n",
              "        text-align: right;\n",
              "    }\n",
              "</style>\n",
              "<table border=\"1\" class=\"dataframe\">\n",
              "  <thead>\n",
              "    <tr style=\"text-align: right;\">\n",
              "      <th></th>\n",
              "      <th>leye_ratio</th>\n",
              "      <th>reye_ratio</th>\n",
              "      <th>eye_angle</th>\n",
              "      <th>nose_ratio</th>\n",
              "      <th>chin_sharp</th>\n",
              "    </tr>\n",
              "  </thead>\n",
              "  <tbody>\n",
              "    <tr>\n",
              "      <th>0</th>\n",
              "      <td>0.147070</td>\n",
              "      <td>0.153448</td>\n",
              "      <td>0.614285</td>\n",
              "      <td>0.449289</td>\n",
              "      <td>0.402747</td>\n",
              "    </tr>\n",
              "    <tr>\n",
              "      <th>1</th>\n",
              "      <td>0.145130</td>\n",
              "      <td>0.152619</td>\n",
              "      <td>0.674302</td>\n",
              "      <td>1.125857</td>\n",
              "      <td>0.224951</td>\n",
              "    </tr>\n",
              "    <tr>\n",
              "      <th>2</th>\n",
              "      <td>0.866774</td>\n",
              "      <td>0.751130</td>\n",
              "      <td>0.489382</td>\n",
              "      <td>1.367977</td>\n",
              "      <td>0.111469</td>\n",
              "    </tr>\n",
              "    <tr>\n",
              "      <th>3</th>\n",
              "      <td>0.612834</td>\n",
              "      <td>0.559312</td>\n",
              "      <td>0.629320</td>\n",
              "      <td>0.863254</td>\n",
              "      <td>0.230050</td>\n",
              "    </tr>\n",
              "  </tbody>\n",
              "</table>\n",
              "</div>\n",
              "      <button class=\"colab-df-convert\" onclick=\"convertToInteractive('df-cb8e553c-081f-40f3-b8b6-1e826a9da6fb')\"\n",
              "              title=\"Convert this dataframe to an interactive table.\"\n",
              "              style=\"display:none;\">\n",
              "\n",
              "  <svg xmlns=\"http://www.w3.org/2000/svg\" height=\"24px\"viewBox=\"0 0 24 24\"\n",
              "       width=\"24px\">\n",
              "    <path d=\"M0 0h24v24H0V0z\" fill=\"none\"/>\n",
              "    <path d=\"M18.56 5.44l.94 2.06.94-2.06 2.06-.94-2.06-.94-.94-2.06-.94 2.06-2.06.94zm-11 1L8.5 8.5l.94-2.06 2.06-.94-2.06-.94L8.5 2.5l-.94 2.06-2.06.94zm10 10l.94 2.06.94-2.06 2.06-.94-2.06-.94-.94-2.06-.94 2.06-2.06.94z\"/><path d=\"M17.41 7.96l-1.37-1.37c-.4-.4-.92-.59-1.43-.59-.52 0-1.04.2-1.43.59L10.3 9.45l-7.72 7.72c-.78.78-.78 2.05 0 2.83L4 21.41c.39.39.9.59 1.41.59.51 0 1.02-.2 1.41-.59l7.78-7.78 2.81-2.81c.8-.78.8-2.07 0-2.86zM5.41 20L4 18.59l7.72-7.72 1.47 1.35L5.41 20z\"/>\n",
              "  </svg>\n",
              "      </button>\n",
              "\n",
              "\n",
              "\n",
              "    <div id=\"df-05e75a81-db94-4e3c-beef-d7fa1a6e5cc5\">\n",
              "      <button class=\"colab-df-quickchart\" onclick=\"quickchart('df-05e75a81-db94-4e3c-beef-d7fa1a6e5cc5')\"\n",
              "              title=\"Suggest charts.\"\n",
              "              style=\"display:none;\">\n",
              "\n",
              "<svg xmlns=\"http://www.w3.org/2000/svg\" height=\"24px\"viewBox=\"0 0 24 24\"\n",
              "     width=\"24px\">\n",
              "    <g>\n",
              "        <path d=\"M19 3H5c-1.1 0-2 .9-2 2v14c0 1.1.9 2 2 2h14c1.1 0 2-.9 2-2V5c0-1.1-.9-2-2-2zM9 17H7v-7h2v7zm4 0h-2V7h2v10zm4 0h-2v-4h2v4z\"/>\n",
              "    </g>\n",
              "</svg>\n",
              "      </button>\n",
              "    </div>\n",
              "\n",
              "<style>\n",
              "  .colab-df-quickchart {\n",
              "    background-color: #E8F0FE;\n",
              "    border: none;\n",
              "    border-radius: 50%;\n",
              "    cursor: pointer;\n",
              "    display: none;\n",
              "    fill: #1967D2;\n",
              "    height: 32px;\n",
              "    padding: 0 0 0 0;\n",
              "    width: 32px;\n",
              "  }\n",
              "\n",
              "  .colab-df-quickchart:hover {\n",
              "    background-color: #E2EBFA;\n",
              "    box-shadow: 0px 1px 2px rgba(60, 64, 67, 0.3), 0px 1px 3px 1px rgba(60, 64, 67, 0.15);\n",
              "    fill: #174EA6;\n",
              "  }\n",
              "\n",
              "  [theme=dark] .colab-df-quickchart {\n",
              "    background-color: #3B4455;\n",
              "    fill: #D2E3FC;\n",
              "  }\n",
              "\n",
              "  [theme=dark] .colab-df-quickchart:hover {\n",
              "    background-color: #434B5C;\n",
              "    box-shadow: 0px 1px 3px 1px rgba(0, 0, 0, 0.15);\n",
              "    filter: drop-shadow(0px 1px 2px rgba(0, 0, 0, 0.3));\n",
              "    fill: #FFFFFF;\n",
              "  }\n",
              "</style>\n",
              "\n",
              "    <script>\n",
              "      async function quickchart(key) {\n",
              "        const containerElement = document.querySelector('#' + key);\n",
              "        const charts = await google.colab.kernel.invokeFunction(\n",
              "            'suggestCharts', [key], {});\n",
              "      }\n",
              "    </script>\n",
              "\n",
              "      <script>\n",
              "\n",
              "function displayQuickchartButton(domScope) {\n",
              "  let quickchartButtonEl =\n",
              "    domScope.querySelector('#df-05e75a81-db94-4e3c-beef-d7fa1a6e5cc5 button.colab-df-quickchart');\n",
              "  quickchartButtonEl.style.display =\n",
              "    google.colab.kernel.accessAllowed ? 'block' : 'none';\n",
              "}\n",
              "\n",
              "        displayQuickchartButton(document);\n",
              "      </script>\n",
              "      <style>\n",
              "    .colab-df-container {\n",
              "      display:flex;\n",
              "      flex-wrap:wrap;\n",
              "      gap: 12px;\n",
              "    }\n",
              "\n",
              "    .colab-df-convert {\n",
              "      background-color: #E8F0FE;\n",
              "      border: none;\n",
              "      border-radius: 50%;\n",
              "      cursor: pointer;\n",
              "      display: none;\n",
              "      fill: #1967D2;\n",
              "      height: 32px;\n",
              "      padding: 0 0 0 0;\n",
              "      width: 32px;\n",
              "    }\n",
              "\n",
              "    .colab-df-convert:hover {\n",
              "      background-color: #E2EBFA;\n",
              "      box-shadow: 0px 1px 2px rgba(60, 64, 67, 0.3), 0px 1px 3px 1px rgba(60, 64, 67, 0.15);\n",
              "      fill: #174EA6;\n",
              "    }\n",
              "\n",
              "    [theme=dark] .colab-df-convert {\n",
              "      background-color: #3B4455;\n",
              "      fill: #D2E3FC;\n",
              "    }\n",
              "\n",
              "    [theme=dark] .colab-df-convert:hover {\n",
              "      background-color: #434B5C;\n",
              "      box-shadow: 0px 1px 3px 1px rgba(0, 0, 0, 0.15);\n",
              "      filter: drop-shadow(0px 1px 2px rgba(0, 0, 0, 0.3));\n",
              "      fill: #FFFFFF;\n",
              "    }\n",
              "  </style>\n",
              "\n",
              "      <script>\n",
              "        const buttonEl =\n",
              "          document.querySelector('#df-cb8e553c-081f-40f3-b8b6-1e826a9da6fb button.colab-df-convert');\n",
              "        buttonEl.style.display =\n",
              "          google.colab.kernel.accessAllowed ? 'block' : 'none';\n",
              "\n",
              "        async function convertToInteractive(key) {\n",
              "          const element = document.querySelector('#df-cb8e553c-081f-40f3-b8b6-1e826a9da6fb');\n",
              "          const dataTable =\n",
              "            await google.colab.kernel.invokeFunction('convertToInteractive',\n",
              "                                                     [key], {});\n",
              "          if (!dataTable) return;\n",
              "\n",
              "          const docLinkHtml = 'Like what you see? Visit the ' +\n",
              "            '<a target=\"_blank\" href=https://colab.research.google.com/notebooks/data_table.ipynb>data table notebook</a>'\n",
              "            + ' to learn more about interactive tables.';\n",
              "          element.innerHTML = '';\n",
              "          dataTable['output_type'] = 'display_data';\n",
              "          await google.colab.output.renderOutput(dataTable, element);\n",
              "          const docLink = document.createElement('div');\n",
              "          docLink.innerHTML = docLinkHtml;\n",
              "          element.appendChild(docLink);\n",
              "        }\n",
              "      </script>\n",
              "    </div>\n",
              "  </div>\n"
            ]
          },
          "metadata": {},
          "execution_count": 13
        }
      ]
    },
    {
      "cell_type": "markdown",
      "source": [
        "### 사람수, 탈 수\n",
        "rnum : 사람 수\n",
        "tnum : 탈 수"
      ],
      "metadata": {
        "id": "WGwzxfxf4m7W"
      }
    },
    {
      "cell_type": "code",
      "source": [
        "#df.shape[0] 행개수, df.shape[1] 열개수\n",
        "rnum = dfren.shape[0]\n",
        "tnum = dftal.shape[0]"
      ],
      "metadata": {
        "id": "O7DVDrtn4mPV"
      },
      "execution_count": null,
      "outputs": []
    },
    {
      "cell_type": "markdown",
      "source": [
        "#2. 특성값에 standard scaler 적용 / 이거씁니다."
      ],
      "metadata": {
        "id": "mcMgx6wS04Da"
      }
    },
    {
      "cell_type": "code",
      "source": [
        "from sklearn.preprocessing import StandardScaler\n",
        "import pandas as pd\n",
        "\n",
        "scaler_S = StandardScaler()\n",
        "ren_scaled_S = scaler_S.fit_transform(dfren)\n",
        "tal_scaled_S = scaler_S.fit_transform(dftal)\n",
        "\n",
        "dfren_scaled_S = pd.DataFrame(ren_scaled_S)\n",
        "dftal_scaled_S = pd.DataFrame(tal_scaled_S)"
      ],
      "metadata": {
        "id": "9YQmUlb3P8rE"
      },
      "execution_count": null,
      "outputs": []
    },
    {
      "cell_type": "code",
      "source": [
        "ren_scaled_S"
      ],
      "metadata": {
        "colab": {
          "base_uri": "https://localhost:8080/"
        },
        "id": "or73tc3D97SU",
        "outputId": "c963907c-3dde-4327-fd06-773e08e60b57"
      },
      "execution_count": null,
      "outputs": [
        {
          "output_type": "execute_result",
          "data": {
            "text/plain": [
              "array([[ 0.07087556, -0.14563255,  2.44147995, -1.12334757,  1.89654614],\n",
              "       [ 0.3914285 ,  0.07170316, -0.2425882 , -0.98104848,  0.13249349],\n",
              "       [-0.11405406, -0.33830799, -0.66697888, -0.40075202, -0.895146  ],\n",
              "       ...,\n",
              "       [-0.96514245, -0.8243474 , -0.22313496,  0.22955411, -0.27672843],\n",
              "       [-0.74304965, -0.5314306 , -0.78950156,  0.31133114, -1.67821787],\n",
              "       [ 0.71288824,  0.67026076,  0.31072342, -1.47802834,  0.51480139]])"
            ]
          },
          "metadata": {},
          "execution_count": 16
        }
      ]
    },
    {
      "cell_type": "code",
      "source": [
        "tal_scaled_S"
      ],
      "metadata": {
        "colab": {
          "base_uri": "https://localhost:8080/"
        },
        "id": "kVGNcen9-g0j",
        "outputId": "a18d3611-36ac-419d-8655-481de3da41f1"
      },
      "execution_count": null,
      "outputs": [
        {
          "output_type": "execute_result",
          "data": {
            "text/plain": [
              "array([[-0.95405008, -0.96381275,  0.18174909, -1.47504645,  1.54188054],\n",
              "       [-0.96030463, -0.96700001,  1.05701399,  0.51173269, -0.16676575],\n",
              "       [ 1.36658332,  1.334159  , -1.63977894,  1.22273074, -1.25734825],\n",
              "       [ 0.54777139,  0.59665376,  0.40101586, -0.25941699, -0.11776654]])"
            ]
          },
          "metadata": {},
          "execution_count": 17
        }
      ]
    },
    {
      "cell_type": "code",
      "source": [
        "import pandas as pd\n",
        "sim_S = pd.DataFrame(index = range(rnum), columns = ('Boone','Yangban', 'Choraeng', 'Halmi'))\n",
        "from scipy.spatial import distance\n",
        "for r in range(rnum):\n",
        "  for t in range(tnum):\n",
        "    sim_S.iloc[r][t] = distance.euclidean(ren_scaled_S[r], tal_scaled_S[t])"
      ],
      "metadata": {
        "id": "IaxIxwaBad-0"
      },
      "execution_count": null,
      "outputs": []
    },
    {
      "cell_type": "code",
      "source": [
        "sim_S.insert(0, 'filename', filename)"
      ],
      "metadata": {
        "id": "2VWrnxDU6p-3"
      },
      "execution_count": null,
      "outputs": []
    },
    {
      "cell_type": "code",
      "source": [
        "sim_S"
      ],
      "metadata": {
        "colab": {
          "base_uri": "https://localhost:8080/",
          "height": 423
        },
        "id": "YM1fAPUIaeBu",
        "outputId": "d251a827-86b1-4bb6-a57d-3a2325a6a929"
      },
      "execution_count": null,
      "outputs": [
        {
          "output_type": "execute_result",
          "data": {
            "text/plain": [
              "                                         filename     Boone   Yangban  \\\n",
              "0           use_front_crop_Aaron_Eckhart_0001.jpg  2.660029  3.253531   \n",
              "1           use_front_crop_Aaron_Peirsol_0001.jpg  2.300668  2.629259   \n",
              "2     use_front_crop_Abdel_Nasser_Assidi_0001.jpg  2.985029  2.333819   \n",
              "3            use_front_crop_Abdul_Rahman_0001.jpg  4.631699  3.237802   \n",
              "4                use_front_crop_Abdullah_0001.jpg  4.002892  3.256357   \n",
              "...                                           ...       ...       ...   \n",
              "1364          use_front_crop_Zach_Parise_0001.jpg   3.04129  2.841172   \n",
              "1365       use_front_crop_Zeljko_Rebraca_0001.jpg  3.812897  2.697104   \n",
              "1366         use_front_crop_Zelma_Novelo_0001.jpg  2.529132  1.323205   \n",
              "1367          use_front_crop_Zhang_Yimou_0001.jpg  3.838617  2.443602   \n",
              "1368       use_front_crop_Zorica_Radovic_0001.jpg   2.55351  3.234321   \n",
              "\n",
              "      Choraeng     Halmi  \n",
              "0     5.998037  3.121817  \n",
              "1      3.35934  1.139133  \n",
              "2     2.950027  1.754159  \n",
              "3     1.367049   2.14175  \n",
              "4     3.366739  2.367684  \n",
              "...        ...       ...  \n",
              "1364   2.67661   0.68254  \n",
              "1365  2.597547  2.175584  \n",
              "1366  3.748465  2.227572  \n",
              "1367  3.108332  2.667749  \n",
              "1368  3.886792    1.3878  \n",
              "\n",
              "[1369 rows x 5 columns]"
            ],
            "text/html": [
              "\n",
              "\n",
              "  <div id=\"df-c18c941e-db73-4223-bb66-05b6ab21580a\">\n",
              "    <div class=\"colab-df-container\">\n",
              "      <div>\n",
              "<style scoped>\n",
              "    .dataframe tbody tr th:only-of-type {\n",
              "        vertical-align: middle;\n",
              "    }\n",
              "\n",
              "    .dataframe tbody tr th {\n",
              "        vertical-align: top;\n",
              "    }\n",
              "\n",
              "    .dataframe thead th {\n",
              "        text-align: right;\n",
              "    }\n",
              "</style>\n",
              "<table border=\"1\" class=\"dataframe\">\n",
              "  <thead>\n",
              "    <tr style=\"text-align: right;\">\n",
              "      <th></th>\n",
              "      <th>filename</th>\n",
              "      <th>Boone</th>\n",
              "      <th>Yangban</th>\n",
              "      <th>Choraeng</th>\n",
              "      <th>Halmi</th>\n",
              "    </tr>\n",
              "  </thead>\n",
              "  <tbody>\n",
              "    <tr>\n",
              "      <th>0</th>\n",
              "      <td>use_front_crop_Aaron_Eckhart_0001.jpg</td>\n",
              "      <td>2.660029</td>\n",
              "      <td>3.253531</td>\n",
              "      <td>5.998037</td>\n",
              "      <td>3.121817</td>\n",
              "    </tr>\n",
              "    <tr>\n",
              "      <th>1</th>\n",
              "      <td>use_front_crop_Aaron_Peirsol_0001.jpg</td>\n",
              "      <td>2.300668</td>\n",
              "      <td>2.629259</td>\n",
              "      <td>3.35934</td>\n",
              "      <td>1.139133</td>\n",
              "    </tr>\n",
              "    <tr>\n",
              "      <th>2</th>\n",
              "      <td>use_front_crop_Abdel_Nasser_Assidi_0001.jpg</td>\n",
              "      <td>2.985029</td>\n",
              "      <td>2.333819</td>\n",
              "      <td>2.950027</td>\n",
              "      <td>1.754159</td>\n",
              "    </tr>\n",
              "    <tr>\n",
              "      <th>3</th>\n",
              "      <td>use_front_crop_Abdul_Rahman_0001.jpg</td>\n",
              "      <td>4.631699</td>\n",
              "      <td>3.237802</td>\n",
              "      <td>1.367049</td>\n",
              "      <td>2.14175</td>\n",
              "    </tr>\n",
              "    <tr>\n",
              "      <th>4</th>\n",
              "      <td>use_front_crop_Abdullah_0001.jpg</td>\n",
              "      <td>4.002892</td>\n",
              "      <td>3.256357</td>\n",
              "      <td>3.366739</td>\n",
              "      <td>2.367684</td>\n",
              "    </tr>\n",
              "    <tr>\n",
              "      <th>...</th>\n",
              "      <td>...</td>\n",
              "      <td>...</td>\n",
              "      <td>...</td>\n",
              "      <td>...</td>\n",
              "      <td>...</td>\n",
              "    </tr>\n",
              "    <tr>\n",
              "      <th>1364</th>\n",
              "      <td>use_front_crop_Zach_Parise_0001.jpg</td>\n",
              "      <td>3.04129</td>\n",
              "      <td>2.841172</td>\n",
              "      <td>2.67661</td>\n",
              "      <td>0.68254</td>\n",
              "    </tr>\n",
              "    <tr>\n",
              "      <th>1365</th>\n",
              "      <td>use_front_crop_Zeljko_Rebraca_0001.jpg</td>\n",
              "      <td>3.812897</td>\n",
              "      <td>2.697104</td>\n",
              "      <td>2.597547</td>\n",
              "      <td>2.175584</td>\n",
              "    </tr>\n",
              "    <tr>\n",
              "      <th>1366</th>\n",
              "      <td>use_front_crop_Zelma_Novelo_0001.jpg</td>\n",
              "      <td>2.529132</td>\n",
              "      <td>1.323205</td>\n",
              "      <td>3.748465</td>\n",
              "      <td>2.227572</td>\n",
              "    </tr>\n",
              "    <tr>\n",
              "      <th>1367</th>\n",
              "      <td>use_front_crop_Zhang_Yimou_0001.jpg</td>\n",
              "      <td>3.838617</td>\n",
              "      <td>2.443602</td>\n",
              "      <td>3.108332</td>\n",
              "      <td>2.667749</td>\n",
              "    </tr>\n",
              "    <tr>\n",
              "      <th>1368</th>\n",
              "      <td>use_front_crop_Zorica_Radovic_0001.jpg</td>\n",
              "      <td>2.55351</td>\n",
              "      <td>3.234321</td>\n",
              "      <td>3.886792</td>\n",
              "      <td>1.3878</td>\n",
              "    </tr>\n",
              "  </tbody>\n",
              "</table>\n",
              "<p>1369 rows × 5 columns</p>\n",
              "</div>\n",
              "      <button class=\"colab-df-convert\" onclick=\"convertToInteractive('df-c18c941e-db73-4223-bb66-05b6ab21580a')\"\n",
              "              title=\"Convert this dataframe to an interactive table.\"\n",
              "              style=\"display:none;\">\n",
              "\n",
              "  <svg xmlns=\"http://www.w3.org/2000/svg\" height=\"24px\"viewBox=\"0 0 24 24\"\n",
              "       width=\"24px\">\n",
              "    <path d=\"M0 0h24v24H0V0z\" fill=\"none\"/>\n",
              "    <path d=\"M18.56 5.44l.94 2.06.94-2.06 2.06-.94-2.06-.94-.94-2.06-.94 2.06-2.06.94zm-11 1L8.5 8.5l.94-2.06 2.06-.94-2.06-.94L8.5 2.5l-.94 2.06-2.06.94zm10 10l.94 2.06.94-2.06 2.06-.94-2.06-.94-.94-2.06-.94 2.06-2.06.94z\"/><path d=\"M17.41 7.96l-1.37-1.37c-.4-.4-.92-.59-1.43-.59-.52 0-1.04.2-1.43.59L10.3 9.45l-7.72 7.72c-.78.78-.78 2.05 0 2.83L4 21.41c.39.39.9.59 1.41.59.51 0 1.02-.2 1.41-.59l7.78-7.78 2.81-2.81c.8-.78.8-2.07 0-2.86zM5.41 20L4 18.59l7.72-7.72 1.47 1.35L5.41 20z\"/>\n",
              "  </svg>\n",
              "      </button>\n",
              "\n",
              "\n",
              "\n",
              "    <div id=\"df-0c39180a-ebcb-40f2-ab57-9d39c04588b2\">\n",
              "      <button class=\"colab-df-quickchart\" onclick=\"quickchart('df-0c39180a-ebcb-40f2-ab57-9d39c04588b2')\"\n",
              "              title=\"Suggest charts.\"\n",
              "              style=\"display:none;\">\n",
              "\n",
              "<svg xmlns=\"http://www.w3.org/2000/svg\" height=\"24px\"viewBox=\"0 0 24 24\"\n",
              "     width=\"24px\">\n",
              "    <g>\n",
              "        <path d=\"M19 3H5c-1.1 0-2 .9-2 2v14c0 1.1.9 2 2 2h14c1.1 0 2-.9 2-2V5c0-1.1-.9-2-2-2zM9 17H7v-7h2v7zm4 0h-2V7h2v10zm4 0h-2v-4h2v4z\"/>\n",
              "    </g>\n",
              "</svg>\n",
              "      </button>\n",
              "    </div>\n",
              "\n",
              "<style>\n",
              "  .colab-df-quickchart {\n",
              "    background-color: #E8F0FE;\n",
              "    border: none;\n",
              "    border-radius: 50%;\n",
              "    cursor: pointer;\n",
              "    display: none;\n",
              "    fill: #1967D2;\n",
              "    height: 32px;\n",
              "    padding: 0 0 0 0;\n",
              "    width: 32px;\n",
              "  }\n",
              "\n",
              "  .colab-df-quickchart:hover {\n",
              "    background-color: #E2EBFA;\n",
              "    box-shadow: 0px 1px 2px rgba(60, 64, 67, 0.3), 0px 1px 3px 1px rgba(60, 64, 67, 0.15);\n",
              "    fill: #174EA6;\n",
              "  }\n",
              "\n",
              "  [theme=dark] .colab-df-quickchart {\n",
              "    background-color: #3B4455;\n",
              "    fill: #D2E3FC;\n",
              "  }\n",
              "\n",
              "  [theme=dark] .colab-df-quickchart:hover {\n",
              "    background-color: #434B5C;\n",
              "    box-shadow: 0px 1px 3px 1px rgba(0, 0, 0, 0.15);\n",
              "    filter: drop-shadow(0px 1px 2px rgba(0, 0, 0, 0.3));\n",
              "    fill: #FFFFFF;\n",
              "  }\n",
              "</style>\n",
              "\n",
              "    <script>\n",
              "      async function quickchart(key) {\n",
              "        const containerElement = document.querySelector('#' + key);\n",
              "        const charts = await google.colab.kernel.invokeFunction(\n",
              "            'suggestCharts', [key], {});\n",
              "      }\n",
              "    </script>\n",
              "\n",
              "      <script>\n",
              "\n",
              "function displayQuickchartButton(domScope) {\n",
              "  let quickchartButtonEl =\n",
              "    domScope.querySelector('#df-0c39180a-ebcb-40f2-ab57-9d39c04588b2 button.colab-df-quickchart');\n",
              "  quickchartButtonEl.style.display =\n",
              "    google.colab.kernel.accessAllowed ? 'block' : 'none';\n",
              "}\n",
              "\n",
              "        displayQuickchartButton(document);\n",
              "      </script>\n",
              "      <style>\n",
              "    .colab-df-container {\n",
              "      display:flex;\n",
              "      flex-wrap:wrap;\n",
              "      gap: 12px;\n",
              "    }\n",
              "\n",
              "    .colab-df-convert {\n",
              "      background-color: #E8F0FE;\n",
              "      border: none;\n",
              "      border-radius: 50%;\n",
              "      cursor: pointer;\n",
              "      display: none;\n",
              "      fill: #1967D2;\n",
              "      height: 32px;\n",
              "      padding: 0 0 0 0;\n",
              "      width: 32px;\n",
              "    }\n",
              "\n",
              "    .colab-df-convert:hover {\n",
              "      background-color: #E2EBFA;\n",
              "      box-shadow: 0px 1px 2px rgba(60, 64, 67, 0.3), 0px 1px 3px 1px rgba(60, 64, 67, 0.15);\n",
              "      fill: #174EA6;\n",
              "    }\n",
              "\n",
              "    [theme=dark] .colab-df-convert {\n",
              "      background-color: #3B4455;\n",
              "      fill: #D2E3FC;\n",
              "    }\n",
              "\n",
              "    [theme=dark] .colab-df-convert:hover {\n",
              "      background-color: #434B5C;\n",
              "      box-shadow: 0px 1px 3px 1px rgba(0, 0, 0, 0.15);\n",
              "      filter: drop-shadow(0px 1px 2px rgba(0, 0, 0, 0.3));\n",
              "      fill: #FFFFFF;\n",
              "    }\n",
              "  </style>\n",
              "\n",
              "      <script>\n",
              "        const buttonEl =\n",
              "          document.querySelector('#df-c18c941e-db73-4223-bb66-05b6ab21580a button.colab-df-convert');\n",
              "        buttonEl.style.display =\n",
              "          google.colab.kernel.accessAllowed ? 'block' : 'none';\n",
              "\n",
              "        async function convertToInteractive(key) {\n",
              "          const element = document.querySelector('#df-c18c941e-db73-4223-bb66-05b6ab21580a');\n",
              "          const dataTable =\n",
              "            await google.colab.kernel.invokeFunction('convertToInteractive',\n",
              "                                                     [key], {});\n",
              "          if (!dataTable) return;\n",
              "\n",
              "          const docLinkHtml = 'Like what you see? Visit the ' +\n",
              "            '<a target=\"_blank\" href=https://colab.research.google.com/notebooks/data_table.ipynb>data table notebook</a>'\n",
              "            + ' to learn more about interactive tables.';\n",
              "          element.innerHTML = '';\n",
              "          dataTable['output_type'] = 'display_data';\n",
              "          await google.colab.output.renderOutput(dataTable, element);\n",
              "          const docLink = document.createElement('div');\n",
              "          docLink.innerHTML = docLinkHtml;\n",
              "          element.appendChild(docLink);\n",
              "        }\n",
              "      </script>\n",
              "    </div>\n",
              "  </div>\n"
            ]
          },
          "metadata": {},
          "execution_count": 33
        }
      ]
    },
    {
      "cell_type": "code",
      "source": [
        "sim_S.to_csv(\"/content/drive/MyDrive/matlab 공모전/csv(표)/Origin_Distance.csv\", mode = 'a', index = False)"
      ],
      "metadata": {
        "id": "yC0IYLJiDJz4"
      },
      "execution_count": null,
      "outputs": []
    },
    {
      "cell_type": "markdown",
      "source": [
        "##평균 차 거리."
      ],
      "metadata": {
        "id": "OyJy0Jbjd6ZA"
      }
    },
    {
      "cell_type": "code",
      "source": [
        "tal_mean = sim_S.mean(axis=0)\n",
        "tal_mean"
      ],
      "metadata": {
        "colab": {
          "base_uri": "https://localhost:8080/"
        },
        "id": "OMvuCAs4d5-_",
        "outputId": "0872409d-4f0a-4210-c4f6-2b36340e46c5"
      },
      "execution_count": null,
      "outputs": [
        {
          "output_type": "stream",
          "name": "stderr",
          "text": [
            "<ipython-input-20-2b372b0362ce>:1: FutureWarning: The default value of numeric_only in DataFrame.mean is deprecated. In a future version, it will default to False. In addition, specifying 'numeric_only=None' is deprecated. Select only valid columns or specify the value of numeric_only to silence this warning.\n",
            "  tal_mean = sim_S.mean(axis=0)\n"
          ]
        },
        {
          "output_type": "execute_result",
          "data": {
            "text/plain": [
              "Boone      3.239927\n",
              "Yangban    2.736968\n",
              "Chorang    3.643564\n",
              "Halmi      2.249139\n",
              "dtype: float64"
            ]
          },
          "metadata": {},
          "execution_count": 20
        }
      ]
    },
    {
      "cell_type": "code",
      "source": [
        "tal_mean[0]"
      ],
      "metadata": {
        "colab": {
          "base_uri": "https://localhost:8080/"
        },
        "id": "ATlSIa5352DK",
        "outputId": "7f53439e-af2a-4ad5-9db9-b31123c25837"
      },
      "execution_count": null,
      "outputs": [
        {
          "output_type": "execute_result",
          "data": {
            "text/plain": [
              "3.23992722222035"
            ]
          },
          "metadata": {},
          "execution_count": 25
        }
      ]
    },
    {
      "cell_type": "code",
      "source": [
        "sim_S.iloc[0][2]"
      ],
      "metadata": {
        "colab": {
          "base_uri": "https://localhost:8080/"
        },
        "id": "aIDoCr5I548N",
        "outputId": "b0af2fcb-d11f-4ab9-e6e5-47ebab2099a0"
      },
      "execution_count": null,
      "outputs": [
        {
          "output_type": "execute_result",
          "data": {
            "text/plain": [
              "3.253531394401344"
            ]
          },
          "metadata": {},
          "execution_count": 26
        }
      ]
    },
    {
      "cell_type": "code",
      "source": [
        "tal_mean[0] - sim_S.iloc[0][2]"
      ],
      "metadata": {
        "colab": {
          "base_uri": "https://localhost:8080/"
        },
        "id": "1QbgeZpB5-QZ",
        "outputId": "48d269bb-5d17-4cf3-b4d7-f1505aa7dfcd"
      },
      "execution_count": null,
      "outputs": [
        {
          "output_type": "execute_result",
          "data": {
            "text/plain": [
              "-0.0136041721809943"
            ]
          },
          "metadata": {},
          "execution_count": 27
        }
      ]
    },
    {
      "cell_type": "code",
      "source": [
        "#데이터 프레임을 리스트로\n",
        "sim_S_val = sim_S[[\"Boone\",\"Yangban\",\"Choraeng\",\"Halmi\"]].values.tolist()"
      ],
      "metadata": {
        "id": "vDQ0I7Ur8lHS"
      },
      "execution_count": null,
      "outputs": []
    },
    {
      "cell_type": "code",
      "source": [
        "#평균보다 탈에 가까움 : 평균 - 자신 = 큼\n",
        "import numpy as np\n",
        "sub_val = np.zeros(rnum*tnum)\n",
        "sub_val = sub_val.reshape(rnum,tnum)\n",
        "for i in range(rnum):\n",
        "  for t in range(tnum):\n",
        "    sub_val[i][t] = tal_mean[t] - sim_S_val[i][t] #(뒤에가 작을수록) 값이 클 수록 더 닮았다.\n",
        "\n",
        "sub_df = pd.DataFrame((sub_val), index = range(rnum), columns = ('Boone','Yangban', 'Chorang', 'Halmi'))\n",
        "sub_df.insert(0, 'filename', filename)"
      ],
      "metadata": {
        "id": "bIyozeb4eYjc"
      },
      "execution_count": null,
      "outputs": []
    },
    {
      "cell_type": "code",
      "source": [
        "sub_val"
      ],
      "metadata": {
        "colab": {
          "base_uri": "https://localhost:8080/"
        },
        "id": "Pm8xQ8BMfuqu",
        "outputId": "01f07f05-fd89-491e-efea-11bc64c6e378"
      },
      "execution_count": null,
      "outputs": [
        {
          "output_type": "execute_result",
          "data": {
            "text/plain": [
              "array([[ 0.57989814, -0.51656381, -2.35447285, -0.87267842],\n",
              "       [ 0.9392591 ,  0.10770832,  0.28422405,  1.11000576],\n",
              "       [ 0.25489865,  0.40314857,  0.6935372 ,  0.49498005],\n",
              "       ...,\n",
              "       [ 0.71079567,  1.41376275, -0.10490079,  0.02156667],\n",
              "       [-0.59868998,  0.29336607,  0.53523223, -0.41861039],\n",
              "       [ 0.686417  , -0.49735298, -0.24322768,  0.86133853]])"
            ]
          },
          "metadata": {},
          "execution_count": 44
        }
      ]
    },
    {
      "cell_type": "code",
      "source": [
        "sub_df.to_csv(\"/content/drive/MyDrive/matlab 공모전/csv(표)/Origin_SubDistance.csv\", mode = 'a', index = False)"
      ],
      "metadata": {
        "id": "JZiKdwgVfZNs"
      },
      "execution_count": null,
      "outputs": []
    },
    {
      "cell_type": "markdown",
      "source": [
        "##최소값 찾기 1. 거리 최솟값"
      ],
      "metadata": {
        "id": "OWFpcvpSfyoK"
      }
    },
    {
      "cell_type": "code",
      "source": [
        "from pandas import read_csv\n",
        "feature_df = read_csv(\"/content/drive/MyDrive/matlab 공모전/csv(표)/Origin_feature_1369.csv\")"
      ],
      "metadata": {
        "id": "Yl4Rj0achEuR"
      },
      "execution_count": null,
      "outputs": []
    },
    {
      "cell_type": "code",
      "source": [
        "#df에서 값만 빼냄\n",
        "#df = read_csv(\"/content/drive/MyDrive/matlab 공모전/csv(표)/Origin_Distance.csv\")\n",
        "#df = df.drop(df.columns[[0]], axis=1)\n",
        "#sim_S_val = df.values\n",
        "#print(sim_S_val)"
      ],
      "metadata": {
        "id": "NqM_gOwhf2PX"
      },
      "execution_count": null,
      "outputs": []
    },
    {
      "cell_type": "code",
      "source": [
        "import numpy as np\n",
        "dmin = np.ones(rnum, int)\n",
        "for i in range(rnum):\n",
        "  dmin[i] = np.argmin(sim_S_val[i])\n",
        "dmin"
      ],
      "metadata": {
        "colab": {
          "base_uri": "https://localhost:8080/"
        },
        "id": "t89dJlc4f1e-",
        "outputId": "8c6a36d6-8efb-47ba-d80c-1e43ab7c3dfb"
      },
      "execution_count": null,
      "outputs": [
        {
          "output_type": "execute_result",
          "data": {
            "text/plain": [
              "array([0, 3, 3, ..., 1, 1, 3])"
            ]
          },
          "metadata": {},
          "execution_count": 40
        }
      ]
    },
    {
      "cell_type": "code",
      "source": [
        "feature_df['distance_min'] = dmin"
      ],
      "metadata": {
        "id": "JKEGVKpdgyKO"
      },
      "execution_count": null,
      "outputs": []
    },
    {
      "cell_type": "markdown",
      "source": [
        "##최소값 찾기 2. 평균차 최댓값\n"
      ],
      "metadata": {
        "id": "Ao9Yoi65glP7"
      }
    },
    {
      "cell_type": "code",
      "source": [
        "#평균차최솟값\n",
        "#df2 = read_csv(\"/content/drive/MyDrive/matlab 공모전/csv(표)/Origin_SubDistance.csv\")\n",
        "#df2 = df2.drop(df.columns[[0]], axis=1)\n",
        "#sub_val = df2.values\n",
        "#print(sub_val)"
      ],
      "metadata": {
        "id": "UksSTwDngFq6"
      },
      "execution_count": null,
      "outputs": []
    },
    {
      "cell_type": "code",
      "source": [
        "import numpy as np\n",
        "smax = np.ones(rnum, int)\n",
        "for i in range(rnum):\n",
        "  smax[i] = np.argmax(sub_val[i])\n",
        "smax"
      ],
      "metadata": {
        "colab": {
          "base_uri": "https://localhost:8080/"
        },
        "id": "o9rvDHUkhlnr",
        "outputId": "20a67956-2cec-4f3b-ddfa-4a2118da9ae8"
      },
      "execution_count": null,
      "outputs": [
        {
          "output_type": "execute_result",
          "data": {
            "text/plain": [
              "array([0, 3, 2, ..., 1, 2, 3])"
            ]
          },
          "metadata": {},
          "execution_count": 46
        }
      ]
    },
    {
      "cell_type": "code",
      "source": [
        "feature_df['sub_max'] = smax"
      ],
      "metadata": {
        "id": "rLGXAHZUhrJu"
      },
      "execution_count": null,
      "outputs": []
    },
    {
      "cell_type": "code",
      "source": [
        "feature_df"
      ],
      "metadata": {
        "colab": {
          "base_uri": "https://localhost:8080/",
          "height": 423
        },
        "id": "CF72WIC3_nl_",
        "outputId": "5ddf9d67-fc47-4257-d255-046ec5e7ff7e"
      },
      "execution_count": null,
      "outputs": [
        {
          "output_type": "execute_result",
          "data": {
            "text/plain": [
              "      Unnamed: 0                                     filename  leye_ratio  \\\n",
              "0              0        use_front_crop_Aaron_Eckhart_0001.jpg    0.291087   \n",
              "1              1        use_front_crop_Aaron_Peirsol_0001.jpg    0.312500   \n",
              "2              2  use_front_crop_Abdel_Nasser_Assidi_0001.jpg    0.278733   \n",
              "3              3         use_front_crop_Abdul_Rahman_0001.jpg    0.333974   \n",
              "4              4             use_front_crop_Abdullah_0001.jpg    0.295075   \n",
              "...          ...                                          ...         ...   \n",
              "1364        1374          use_front_crop_Zach_Parise_0001.jpg    0.324303   \n",
              "1365        1375       use_front_crop_Zeljko_Rebraca_0001.jpg    0.278733   \n",
              "1366        1376         use_front_crop_Zelma_Novelo_0001.jpg    0.221880   \n",
              "1367        1377          use_front_crop_Zhang_Yimou_0001.jpg    0.236716   \n",
              "1368        1378       use_front_crop_Zorica_Radovic_0001.jpg    0.333974   \n",
              "\n",
              "      reye_ratio  eye_angle  nose_ratio  chin_sharp  distance_min  sub_max  \n",
              "0       0.277456  -0.959569    0.487660   -0.326441             0        0  \n",
              "1       0.292103  -0.993151    0.499041   -0.549605             3        3  \n",
              "2       0.264470  -0.998460    0.545455   -0.679607             3        2  \n",
              "3       0.334489  -0.998460    0.657495   -0.752028             2        2  \n",
              "4       0.295075  -0.993103    0.485714   -0.834348             3        2  \n",
              "...          ...        ...         ...         ...           ...      ...  \n",
              "1364    0.344495  -0.992667    0.546296   -0.564007             3        3  \n",
              "1365    0.278733  -1.000000    0.575499   -0.773055             3        2  \n",
              "1366    0.231714  -0.992907    0.595868   -0.601374             1        1  \n",
              "1367    0.251455  -0.999993    0.602408   -0.778671             1        2  \n",
              "1368    0.332443  -0.986228    0.459292   -0.501240             3        3  \n",
              "\n",
              "[1369 rows x 9 columns]"
            ],
            "text/html": [
              "\n",
              "\n",
              "  <div id=\"df-66588652-fe57-47ef-bd3f-9d53d875c77a\">\n",
              "    <div class=\"colab-df-container\">\n",
              "      <div>\n",
              "<style scoped>\n",
              "    .dataframe tbody tr th:only-of-type {\n",
              "        vertical-align: middle;\n",
              "    }\n",
              "\n",
              "    .dataframe tbody tr th {\n",
              "        vertical-align: top;\n",
              "    }\n",
              "\n",
              "    .dataframe thead th {\n",
              "        text-align: right;\n",
              "    }\n",
              "</style>\n",
              "<table border=\"1\" class=\"dataframe\">\n",
              "  <thead>\n",
              "    <tr style=\"text-align: right;\">\n",
              "      <th></th>\n",
              "      <th>Unnamed: 0</th>\n",
              "      <th>filename</th>\n",
              "      <th>leye_ratio</th>\n",
              "      <th>reye_ratio</th>\n",
              "      <th>eye_angle</th>\n",
              "      <th>nose_ratio</th>\n",
              "      <th>chin_sharp</th>\n",
              "      <th>distance_min</th>\n",
              "      <th>sub_max</th>\n",
              "    </tr>\n",
              "  </thead>\n",
              "  <tbody>\n",
              "    <tr>\n",
              "      <th>0</th>\n",
              "      <td>0</td>\n",
              "      <td>use_front_crop_Aaron_Eckhart_0001.jpg</td>\n",
              "      <td>0.291087</td>\n",
              "      <td>0.277456</td>\n",
              "      <td>-0.959569</td>\n",
              "      <td>0.487660</td>\n",
              "      <td>-0.326441</td>\n",
              "      <td>0</td>\n",
              "      <td>0</td>\n",
              "    </tr>\n",
              "    <tr>\n",
              "      <th>1</th>\n",
              "      <td>1</td>\n",
              "      <td>use_front_crop_Aaron_Peirsol_0001.jpg</td>\n",
              "      <td>0.312500</td>\n",
              "      <td>0.292103</td>\n",
              "      <td>-0.993151</td>\n",
              "      <td>0.499041</td>\n",
              "      <td>-0.549605</td>\n",
              "      <td>3</td>\n",
              "      <td>3</td>\n",
              "    </tr>\n",
              "    <tr>\n",
              "      <th>2</th>\n",
              "      <td>2</td>\n",
              "      <td>use_front_crop_Abdel_Nasser_Assidi_0001.jpg</td>\n",
              "      <td>0.278733</td>\n",
              "      <td>0.264470</td>\n",
              "      <td>-0.998460</td>\n",
              "      <td>0.545455</td>\n",
              "      <td>-0.679607</td>\n",
              "      <td>3</td>\n",
              "      <td>2</td>\n",
              "    </tr>\n",
              "    <tr>\n",
              "      <th>3</th>\n",
              "      <td>3</td>\n",
              "      <td>use_front_crop_Abdul_Rahman_0001.jpg</td>\n",
              "      <td>0.333974</td>\n",
              "      <td>0.334489</td>\n",
              "      <td>-0.998460</td>\n",
              "      <td>0.657495</td>\n",
              "      <td>-0.752028</td>\n",
              "      <td>2</td>\n",
              "      <td>2</td>\n",
              "    </tr>\n",
              "    <tr>\n",
              "      <th>4</th>\n",
              "      <td>4</td>\n",
              "      <td>use_front_crop_Abdullah_0001.jpg</td>\n",
              "      <td>0.295075</td>\n",
              "      <td>0.295075</td>\n",
              "      <td>-0.993103</td>\n",
              "      <td>0.485714</td>\n",
              "      <td>-0.834348</td>\n",
              "      <td>3</td>\n",
              "      <td>2</td>\n",
              "    </tr>\n",
              "    <tr>\n",
              "      <th>...</th>\n",
              "      <td>...</td>\n",
              "      <td>...</td>\n",
              "      <td>...</td>\n",
              "      <td>...</td>\n",
              "      <td>...</td>\n",
              "      <td>...</td>\n",
              "      <td>...</td>\n",
              "      <td>...</td>\n",
              "      <td>...</td>\n",
              "    </tr>\n",
              "    <tr>\n",
              "      <th>1364</th>\n",
              "      <td>1374</td>\n",
              "      <td>use_front_crop_Zach_Parise_0001.jpg</td>\n",
              "      <td>0.324303</td>\n",
              "      <td>0.344495</td>\n",
              "      <td>-0.992667</td>\n",
              "      <td>0.546296</td>\n",
              "      <td>-0.564007</td>\n",
              "      <td>3</td>\n",
              "      <td>3</td>\n",
              "    </tr>\n",
              "    <tr>\n",
              "      <th>1365</th>\n",
              "      <td>1375</td>\n",
              "      <td>use_front_crop_Zeljko_Rebraca_0001.jpg</td>\n",
              "      <td>0.278733</td>\n",
              "      <td>0.278733</td>\n",
              "      <td>-1.000000</td>\n",
              "      <td>0.575499</td>\n",
              "      <td>-0.773055</td>\n",
              "      <td>3</td>\n",
              "      <td>2</td>\n",
              "    </tr>\n",
              "    <tr>\n",
              "      <th>1366</th>\n",
              "      <td>1376</td>\n",
              "      <td>use_front_crop_Zelma_Novelo_0001.jpg</td>\n",
              "      <td>0.221880</td>\n",
              "      <td>0.231714</td>\n",
              "      <td>-0.992907</td>\n",
              "      <td>0.595868</td>\n",
              "      <td>-0.601374</td>\n",
              "      <td>1</td>\n",
              "      <td>1</td>\n",
              "    </tr>\n",
              "    <tr>\n",
              "      <th>1367</th>\n",
              "      <td>1377</td>\n",
              "      <td>use_front_crop_Zhang_Yimou_0001.jpg</td>\n",
              "      <td>0.236716</td>\n",
              "      <td>0.251455</td>\n",
              "      <td>-0.999993</td>\n",
              "      <td>0.602408</td>\n",
              "      <td>-0.778671</td>\n",
              "      <td>1</td>\n",
              "      <td>2</td>\n",
              "    </tr>\n",
              "    <tr>\n",
              "      <th>1368</th>\n",
              "      <td>1378</td>\n",
              "      <td>use_front_crop_Zorica_Radovic_0001.jpg</td>\n",
              "      <td>0.333974</td>\n",
              "      <td>0.332443</td>\n",
              "      <td>-0.986228</td>\n",
              "      <td>0.459292</td>\n",
              "      <td>-0.501240</td>\n",
              "      <td>3</td>\n",
              "      <td>3</td>\n",
              "    </tr>\n",
              "  </tbody>\n",
              "</table>\n",
              "<p>1369 rows × 9 columns</p>\n",
              "</div>\n",
              "      <button class=\"colab-df-convert\" onclick=\"convertToInteractive('df-66588652-fe57-47ef-bd3f-9d53d875c77a')\"\n",
              "              title=\"Convert this dataframe to an interactive table.\"\n",
              "              style=\"display:none;\">\n",
              "\n",
              "  <svg xmlns=\"http://www.w3.org/2000/svg\" height=\"24px\"viewBox=\"0 0 24 24\"\n",
              "       width=\"24px\">\n",
              "    <path d=\"M0 0h24v24H0V0z\" fill=\"none\"/>\n",
              "    <path d=\"M18.56 5.44l.94 2.06.94-2.06 2.06-.94-2.06-.94-.94-2.06-.94 2.06-2.06.94zm-11 1L8.5 8.5l.94-2.06 2.06-.94-2.06-.94L8.5 2.5l-.94 2.06-2.06.94zm10 10l.94 2.06.94-2.06 2.06-.94-2.06-.94-.94-2.06-.94 2.06-2.06.94z\"/><path d=\"M17.41 7.96l-1.37-1.37c-.4-.4-.92-.59-1.43-.59-.52 0-1.04.2-1.43.59L10.3 9.45l-7.72 7.72c-.78.78-.78 2.05 0 2.83L4 21.41c.39.39.9.59 1.41.59.51 0 1.02-.2 1.41-.59l7.78-7.78 2.81-2.81c.8-.78.8-2.07 0-2.86zM5.41 20L4 18.59l7.72-7.72 1.47 1.35L5.41 20z\"/>\n",
              "  </svg>\n",
              "      </button>\n",
              "\n",
              "\n",
              "\n",
              "    <div id=\"df-24708201-2f57-448b-8bcf-e90dc5e9911a\">\n",
              "      <button class=\"colab-df-quickchart\" onclick=\"quickchart('df-24708201-2f57-448b-8bcf-e90dc5e9911a')\"\n",
              "              title=\"Suggest charts.\"\n",
              "              style=\"display:none;\">\n",
              "\n",
              "<svg xmlns=\"http://www.w3.org/2000/svg\" height=\"24px\"viewBox=\"0 0 24 24\"\n",
              "     width=\"24px\">\n",
              "    <g>\n",
              "        <path d=\"M19 3H5c-1.1 0-2 .9-2 2v14c0 1.1.9 2 2 2h14c1.1 0 2-.9 2-2V5c0-1.1-.9-2-2-2zM9 17H7v-7h2v7zm4 0h-2V7h2v10zm4 0h-2v-4h2v4z\"/>\n",
              "    </g>\n",
              "</svg>\n",
              "      </button>\n",
              "    </div>\n",
              "\n",
              "<style>\n",
              "  .colab-df-quickchart {\n",
              "    background-color: #E8F0FE;\n",
              "    border: none;\n",
              "    border-radius: 50%;\n",
              "    cursor: pointer;\n",
              "    display: none;\n",
              "    fill: #1967D2;\n",
              "    height: 32px;\n",
              "    padding: 0 0 0 0;\n",
              "    width: 32px;\n",
              "  }\n",
              "\n",
              "  .colab-df-quickchart:hover {\n",
              "    background-color: #E2EBFA;\n",
              "    box-shadow: 0px 1px 2px rgba(60, 64, 67, 0.3), 0px 1px 3px 1px rgba(60, 64, 67, 0.15);\n",
              "    fill: #174EA6;\n",
              "  }\n",
              "\n",
              "  [theme=dark] .colab-df-quickchart {\n",
              "    background-color: #3B4455;\n",
              "    fill: #D2E3FC;\n",
              "  }\n",
              "\n",
              "  [theme=dark] .colab-df-quickchart:hover {\n",
              "    background-color: #434B5C;\n",
              "    box-shadow: 0px 1px 3px 1px rgba(0, 0, 0, 0.15);\n",
              "    filter: drop-shadow(0px 1px 2px rgba(0, 0, 0, 0.3));\n",
              "    fill: #FFFFFF;\n",
              "  }\n",
              "</style>\n",
              "\n",
              "    <script>\n",
              "      async function quickchart(key) {\n",
              "        const containerElement = document.querySelector('#' + key);\n",
              "        const charts = await google.colab.kernel.invokeFunction(\n",
              "            'suggestCharts', [key], {});\n",
              "      }\n",
              "    </script>\n",
              "\n",
              "      <script>\n",
              "\n",
              "function displayQuickchartButton(domScope) {\n",
              "  let quickchartButtonEl =\n",
              "    domScope.querySelector('#df-24708201-2f57-448b-8bcf-e90dc5e9911a button.colab-df-quickchart');\n",
              "  quickchartButtonEl.style.display =\n",
              "    google.colab.kernel.accessAllowed ? 'block' : 'none';\n",
              "}\n",
              "\n",
              "        displayQuickchartButton(document);\n",
              "      </script>\n",
              "      <style>\n",
              "    .colab-df-container {\n",
              "      display:flex;\n",
              "      flex-wrap:wrap;\n",
              "      gap: 12px;\n",
              "    }\n",
              "\n",
              "    .colab-df-convert {\n",
              "      background-color: #E8F0FE;\n",
              "      border: none;\n",
              "      border-radius: 50%;\n",
              "      cursor: pointer;\n",
              "      display: none;\n",
              "      fill: #1967D2;\n",
              "      height: 32px;\n",
              "      padding: 0 0 0 0;\n",
              "      width: 32px;\n",
              "    }\n",
              "\n",
              "    .colab-df-convert:hover {\n",
              "      background-color: #E2EBFA;\n",
              "      box-shadow: 0px 1px 2px rgba(60, 64, 67, 0.3), 0px 1px 3px 1px rgba(60, 64, 67, 0.15);\n",
              "      fill: #174EA6;\n",
              "    }\n",
              "\n",
              "    [theme=dark] .colab-df-convert {\n",
              "      background-color: #3B4455;\n",
              "      fill: #D2E3FC;\n",
              "    }\n",
              "\n",
              "    [theme=dark] .colab-df-convert:hover {\n",
              "      background-color: #434B5C;\n",
              "      box-shadow: 0px 1px 3px 1px rgba(0, 0, 0, 0.15);\n",
              "      filter: drop-shadow(0px 1px 2px rgba(0, 0, 0, 0.3));\n",
              "      fill: #FFFFFF;\n",
              "    }\n",
              "  </style>\n",
              "\n",
              "      <script>\n",
              "        const buttonEl =\n",
              "          document.querySelector('#df-66588652-fe57-47ef-bd3f-9d53d875c77a button.colab-df-convert');\n",
              "        buttonEl.style.display =\n",
              "          google.colab.kernel.accessAllowed ? 'block' : 'none';\n",
              "\n",
              "        async function convertToInteractive(key) {\n",
              "          const element = document.querySelector('#df-66588652-fe57-47ef-bd3f-9d53d875c77a');\n",
              "          const dataTable =\n",
              "            await google.colab.kernel.invokeFunction('convertToInteractive',\n",
              "                                                     [key], {});\n",
              "          if (!dataTable) return;\n",
              "\n",
              "          const docLinkHtml = 'Like what you see? Visit the ' +\n",
              "            '<a target=\"_blank\" href=https://colab.research.google.com/notebooks/data_table.ipynb>data table notebook</a>'\n",
              "            + ' to learn more about interactive tables.';\n",
              "          element.innerHTML = '';\n",
              "          dataTable['output_type'] = 'display_data';\n",
              "          await google.colab.output.renderOutput(dataTable, element);\n",
              "          const docLink = document.createElement('div');\n",
              "          docLink.innerHTML = docLinkHtml;\n",
              "          element.appendChild(docLink);\n",
              "        }\n",
              "      </script>\n",
              "    </div>\n",
              "  </div>\n"
            ]
          },
          "metadata": {},
          "execution_count": 48
        }
      ]
    },
    {
      "cell_type": "code",
      "source": [
        "##이거 또 돌리지 말기!(이미 있음)\n",
        "feature_df.to_csv(\"/content/drive/MyDrive/matlab 공모전/csv(표)/원본1369장csv/Origin_feature_label_1369.csv\", mode = 'a', index = False)"
      ],
      "metadata": {
        "id": "gf6T68fSh7K-"
      },
      "execution_count": null,
      "outputs": []
    },
    {
      "cell_type": "markdown",
      "source": [
        "##train_test data 라벨링\n",
        "코드 설명: 파일이름에 포함된 인물이름이 같다면, 같은 라벨을 붙인다.<br>\n",
        "블록1. printHumanName 인물이름만 출력 <br>\n",
        "블록2.파일 이름과 파일 라벨 정보는 dataframe에 포함돼 있다. 불러옴.<br>\n",
        "블록3.파일 이름 목록(name_list), 파일 라벨 목록(human_label) <br>\n",
        "블록4-5. 파일 개수 확인(df.shape[0] 행 수(=파일수)를 센다.<br>\n",
        "블록6.파일명 목록 > 인물 이름 목록 <br>\n",
        "블록7. 라벨링할 전체 데이터의 파일이름을 불러온다.<br>"
      ],
      "metadata": {
        "id": "rnFNLnduAzSR"
      }
    },
    {
      "cell_type": "code",
      "source": [
        "import re\n",
        "from pandas import read_csv\n",
        "def printHumanName(string):\n",
        "  #string = \"use_front_crop_Aaron_Eckhart_0001_brightness_brightrange_1.jpg\"\n",
        "  try:\n",
        "    found = re.search('crop_(.+?)_0001', string).group(1)\n",
        "    return found\n",
        "  except AttributeError:\n",
        "    pass"
      ],
      "metadata": {
        "id": "HpKZIsAbAyVS"
      },
      "execution_count": null,
      "outputs": []
    },
    {
      "cell_type": "code",
      "source": [
        "#필요한 표 불러오기\n",
        "origin_name = read_csv(\"/content/drive/MyDrive/matlab 공모전/csv(표)/원본1369장csv/Origin_Name.csv\")\n",
        "origin_df = read_csv(\"/content/drive/MyDrive/matlab 공모전/csv(표)/원본1369장csv/Origin_feature_label_1369.csv\")"
      ],
      "metadata": {
        "id": "hGBgteISN346"
      },
      "execution_count": null,
      "outputs": []
    },
    {
      "cell_type": "code",
      "source": [
        "name_list = origin_name['name'].values\n",
        "human_label = origin_df['sub_max'].values"
      ],
      "metadata": {
        "id": "pjK0Qc3GQT6R"
      },
      "execution_count": null,
      "outputs": []
    },
    {
      "cell_type": "code",
      "source": [
        "#두 길이, 사람 구성 같아야 함.\n",
        "len(name_list)"
      ],
      "metadata": {
        "id": "UDNjHNEqRo54",
        "colab": {
          "base_uri": "https://localhost:8080/"
        },
        "outputId": "f450c2ae-1d99-496e-a4af-74288988bce8"
      },
      "execution_count": null,
      "outputs": [
        {
          "output_type": "execute_result",
          "data": {
            "text/plain": [
              "1369"
            ]
          },
          "metadata": {},
          "execution_count": 7
        }
      ]
    },
    {
      "cell_type": "code",
      "source": [
        "len(human_label)"
      ],
      "metadata": {
        "colab": {
          "base_uri": "https://localhost:8080/"
        },
        "id": "PCiybkppbkT3",
        "outputId": "bb6ed034-883c-4788-f697-60a965834ac8"
      },
      "execution_count": null,
      "outputs": [
        {
          "output_type": "execute_result",
          "data": {
            "text/plain": [
              "1369"
            ]
          },
          "metadata": {},
          "execution_count": 8
        }
      ]
    },
    {
      "cell_type": "code",
      "source": [
        "human_names = ['']*len(name_list)\n",
        "for i in range(len(name_list)) :\n",
        "  human_names[i] = printHumanName(name_list[i])"
      ],
      "metadata": {
        "id": "XrFuhBDHQi8I"
      },
      "execution_count": null,
      "outputs": []
    },
    {
      "cell_type": "markdown",
      "source": [
        "##15000장 라벨링\n",
        "블록1. 탈 라벨열 생성(zero_tal, 0으로 초기화)(total: 전체 데이터수) <br>\n",
        "블록2. 탈 라벨링:같은 인물 이름 포함시 같은 라벨을 적는다. <br>"
      ],
      "metadata": {
        "id": "ZDV9imktSsi8"
      }
    },
    {
      "cell_type": "code",
      "source": [
        "train_test_df = read_csv(\"/content/drive/MyDrive/matlab 공모전/csv(표)/Train_Test_feature.csv\")\n",
        "train_test_df = train_test_df.drop(train_test_df.columns[[0]], axis=1)\n",
        "train_test_df"
      ],
      "metadata": {
        "colab": {
          "base_uri": "https://localhost:8080/",
          "height": 423
        },
        "id": "rdeap5tmS7J7",
        "outputId": "501c7b4c-8e8d-4141-c615-d9f67cda773b"
      },
      "execution_count": null,
      "outputs": [
        {
          "output_type": "execute_result",
          "data": {
            "text/plain": [
              "                                                filename  leye_ratio  \\\n",
              "0                  use_front_crop_Aaron_Eckhart_0001.jpg    0.291087   \n",
              "1         use_front_crop_Aaron_Eckhart_0001_blur45_0.jpg    0.293560   \n",
              "2         use_front_crop_Aaron_Eckhart_0001_blur45_1.jpg    0.291087   \n",
              "3      use_front_crop_Aaron_Eckhart_0001_brightness_b...    0.293560   \n",
              "4      use_front_crop_Aaron_Eckhart_0001_brightness_b...    0.291087   \n",
              "...                                                  ...         ...   \n",
              "14625  use_front_crop_Zhang_Yimou_0001_brightness_dar...    0.249513   \n",
              "14626  use_front_crop_Zhang_Yimou_0001_channel_shift_...    0.249513   \n",
              "14627  use_front_crop_Zhang_Yimou_0001_channel_shift_...    0.280702   \n",
              "14628      use_front_crop_Zhang_Yimou_0001_rotated_0.jpg    0.253280   \n",
              "14629      use_front_crop_Zhang_Yimou_0001_rotated_1.jpg    0.280796   \n",
              "\n",
              "       reye_ratio  eye_angle  nose_ratio  chin_sharp  \n",
              "0        0.277456  -0.959569    0.487660   -0.326441  \n",
              "1        0.277456  -0.974173    0.487660   -0.326441  \n",
              "2        0.277456  -0.959569    0.487660   -0.362839  \n",
              "3        0.277456  -0.974173    0.487660   -0.324620  \n",
              "4        0.263017  -0.961180    0.487660   -0.382090  \n",
              "...           ...        ...         ...         ...  \n",
              "14625    0.249513  -1.000000    0.604326   -0.793794  \n",
              "14626    0.250000  -0.998053    0.604326   -0.751361  \n",
              "14627    0.280702  -1.000000    0.604326   -0.808646  \n",
              "14628    0.272462  -0.998607    0.590810   -0.767949  \n",
              "14629    0.280796  -1.000000    0.558062   -0.786151  \n",
              "\n",
              "[14630 rows x 6 columns]"
            ],
            "text/html": [
              "\n",
              "\n",
              "  <div id=\"df-d778a66f-8c89-4656-b11b-3aa602a0a508\">\n",
              "    <div class=\"colab-df-container\">\n",
              "      <div>\n",
              "<style scoped>\n",
              "    .dataframe tbody tr th:only-of-type {\n",
              "        vertical-align: middle;\n",
              "    }\n",
              "\n",
              "    .dataframe tbody tr th {\n",
              "        vertical-align: top;\n",
              "    }\n",
              "\n",
              "    .dataframe thead th {\n",
              "        text-align: right;\n",
              "    }\n",
              "</style>\n",
              "<table border=\"1\" class=\"dataframe\">\n",
              "  <thead>\n",
              "    <tr style=\"text-align: right;\">\n",
              "      <th></th>\n",
              "      <th>filename</th>\n",
              "      <th>leye_ratio</th>\n",
              "      <th>reye_ratio</th>\n",
              "      <th>eye_angle</th>\n",
              "      <th>nose_ratio</th>\n",
              "      <th>chin_sharp</th>\n",
              "    </tr>\n",
              "  </thead>\n",
              "  <tbody>\n",
              "    <tr>\n",
              "      <th>0</th>\n",
              "      <td>use_front_crop_Aaron_Eckhart_0001.jpg</td>\n",
              "      <td>0.291087</td>\n",
              "      <td>0.277456</td>\n",
              "      <td>-0.959569</td>\n",
              "      <td>0.487660</td>\n",
              "      <td>-0.326441</td>\n",
              "    </tr>\n",
              "    <tr>\n",
              "      <th>1</th>\n",
              "      <td>use_front_crop_Aaron_Eckhart_0001_blur45_0.jpg</td>\n",
              "      <td>0.293560</td>\n",
              "      <td>0.277456</td>\n",
              "      <td>-0.974173</td>\n",
              "      <td>0.487660</td>\n",
              "      <td>-0.326441</td>\n",
              "    </tr>\n",
              "    <tr>\n",
              "      <th>2</th>\n",
              "      <td>use_front_crop_Aaron_Eckhart_0001_blur45_1.jpg</td>\n",
              "      <td>0.291087</td>\n",
              "      <td>0.277456</td>\n",
              "      <td>-0.959569</td>\n",
              "      <td>0.487660</td>\n",
              "      <td>-0.362839</td>\n",
              "    </tr>\n",
              "    <tr>\n",
              "      <th>3</th>\n",
              "      <td>use_front_crop_Aaron_Eckhart_0001_brightness_b...</td>\n",
              "      <td>0.293560</td>\n",
              "      <td>0.277456</td>\n",
              "      <td>-0.974173</td>\n",
              "      <td>0.487660</td>\n",
              "      <td>-0.324620</td>\n",
              "    </tr>\n",
              "    <tr>\n",
              "      <th>4</th>\n",
              "      <td>use_front_crop_Aaron_Eckhart_0001_brightness_b...</td>\n",
              "      <td>0.291087</td>\n",
              "      <td>0.263017</td>\n",
              "      <td>-0.961180</td>\n",
              "      <td>0.487660</td>\n",
              "      <td>-0.382090</td>\n",
              "    </tr>\n",
              "    <tr>\n",
              "      <th>...</th>\n",
              "      <td>...</td>\n",
              "      <td>...</td>\n",
              "      <td>...</td>\n",
              "      <td>...</td>\n",
              "      <td>...</td>\n",
              "      <td>...</td>\n",
              "    </tr>\n",
              "    <tr>\n",
              "      <th>14625</th>\n",
              "      <td>use_front_crop_Zhang_Yimou_0001_brightness_dar...</td>\n",
              "      <td>0.249513</td>\n",
              "      <td>0.249513</td>\n",
              "      <td>-1.000000</td>\n",
              "      <td>0.604326</td>\n",
              "      <td>-0.793794</td>\n",
              "    </tr>\n",
              "    <tr>\n",
              "      <th>14626</th>\n",
              "      <td>use_front_crop_Zhang_Yimou_0001_channel_shift_...</td>\n",
              "      <td>0.249513</td>\n",
              "      <td>0.250000</td>\n",
              "      <td>-0.998053</td>\n",
              "      <td>0.604326</td>\n",
              "      <td>-0.751361</td>\n",
              "    </tr>\n",
              "    <tr>\n",
              "      <th>14627</th>\n",
              "      <td>use_front_crop_Zhang_Yimou_0001_channel_shift_...</td>\n",
              "      <td>0.280702</td>\n",
              "      <td>0.280702</td>\n",
              "      <td>-1.000000</td>\n",
              "      <td>0.604326</td>\n",
              "      <td>-0.808646</td>\n",
              "    </tr>\n",
              "    <tr>\n",
              "      <th>14628</th>\n",
              "      <td>use_front_crop_Zhang_Yimou_0001_rotated_0.jpg</td>\n",
              "      <td>0.253280</td>\n",
              "      <td>0.272462</td>\n",
              "      <td>-0.998607</td>\n",
              "      <td>0.590810</td>\n",
              "      <td>-0.767949</td>\n",
              "    </tr>\n",
              "    <tr>\n",
              "      <th>14629</th>\n",
              "      <td>use_front_crop_Zhang_Yimou_0001_rotated_1.jpg</td>\n",
              "      <td>0.280796</td>\n",
              "      <td>0.280796</td>\n",
              "      <td>-1.000000</td>\n",
              "      <td>0.558062</td>\n",
              "      <td>-0.786151</td>\n",
              "    </tr>\n",
              "  </tbody>\n",
              "</table>\n",
              "<p>14630 rows × 6 columns</p>\n",
              "</div>\n",
              "      <button class=\"colab-df-convert\" onclick=\"convertToInteractive('df-d778a66f-8c89-4656-b11b-3aa602a0a508')\"\n",
              "              title=\"Convert this dataframe to an interactive table.\"\n",
              "              style=\"display:none;\">\n",
              "\n",
              "  <svg xmlns=\"http://www.w3.org/2000/svg\" height=\"24px\"viewBox=\"0 0 24 24\"\n",
              "       width=\"24px\">\n",
              "    <path d=\"M0 0h24v24H0V0z\" fill=\"none\"/>\n",
              "    <path d=\"M18.56 5.44l.94 2.06.94-2.06 2.06-.94-2.06-.94-.94-2.06-.94 2.06-2.06.94zm-11 1L8.5 8.5l.94-2.06 2.06-.94-2.06-.94L8.5 2.5l-.94 2.06-2.06.94zm10 10l.94 2.06.94-2.06 2.06-.94-2.06-.94-.94-2.06-.94 2.06-2.06.94z\"/><path d=\"M17.41 7.96l-1.37-1.37c-.4-.4-.92-.59-1.43-.59-.52 0-1.04.2-1.43.59L10.3 9.45l-7.72 7.72c-.78.78-.78 2.05 0 2.83L4 21.41c.39.39.9.59 1.41.59.51 0 1.02-.2 1.41-.59l7.78-7.78 2.81-2.81c.8-.78.8-2.07 0-2.86zM5.41 20L4 18.59l7.72-7.72 1.47 1.35L5.41 20z\"/>\n",
              "  </svg>\n",
              "      </button>\n",
              "\n",
              "\n",
              "\n",
              "    <div id=\"df-14514648-3a14-4c81-9eaf-ee5bddba420f\">\n",
              "      <button class=\"colab-df-quickchart\" onclick=\"quickchart('df-14514648-3a14-4c81-9eaf-ee5bddba420f')\"\n",
              "              title=\"Suggest charts.\"\n",
              "              style=\"display:none;\">\n",
              "\n",
              "<svg xmlns=\"http://www.w3.org/2000/svg\" height=\"24px\"viewBox=\"0 0 24 24\"\n",
              "     width=\"24px\">\n",
              "    <g>\n",
              "        <path d=\"M19 3H5c-1.1 0-2 .9-2 2v14c0 1.1.9 2 2 2h14c1.1 0 2-.9 2-2V5c0-1.1-.9-2-2-2zM9 17H7v-7h2v7zm4 0h-2V7h2v10zm4 0h-2v-4h2v4z\"/>\n",
              "    </g>\n",
              "</svg>\n",
              "      </button>\n",
              "    </div>\n",
              "\n",
              "<style>\n",
              "  .colab-df-quickchart {\n",
              "    background-color: #E8F0FE;\n",
              "    border: none;\n",
              "    border-radius: 50%;\n",
              "    cursor: pointer;\n",
              "    display: none;\n",
              "    fill: #1967D2;\n",
              "    height: 32px;\n",
              "    padding: 0 0 0 0;\n",
              "    width: 32px;\n",
              "  }\n",
              "\n",
              "  .colab-df-quickchart:hover {\n",
              "    background-color: #E2EBFA;\n",
              "    box-shadow: 0px 1px 2px rgba(60, 64, 67, 0.3), 0px 1px 3px 1px rgba(60, 64, 67, 0.15);\n",
              "    fill: #174EA6;\n",
              "  }\n",
              "\n",
              "  [theme=dark] .colab-df-quickchart {\n",
              "    background-color: #3B4455;\n",
              "    fill: #D2E3FC;\n",
              "  }\n",
              "\n",
              "  [theme=dark] .colab-df-quickchart:hover {\n",
              "    background-color: #434B5C;\n",
              "    box-shadow: 0px 1px 3px 1px rgba(0, 0, 0, 0.15);\n",
              "    filter: drop-shadow(0px 1px 2px rgba(0, 0, 0, 0.3));\n",
              "    fill: #FFFFFF;\n",
              "  }\n",
              "</style>\n",
              "\n",
              "    <script>\n",
              "      async function quickchart(key) {\n",
              "        const containerElement = document.querySelector('#' + key);\n",
              "        const charts = await google.colab.kernel.invokeFunction(\n",
              "            'suggestCharts', [key], {});\n",
              "      }\n",
              "    </script>\n",
              "\n",
              "      <script>\n",
              "\n",
              "function displayQuickchartButton(domScope) {\n",
              "  let quickchartButtonEl =\n",
              "    domScope.querySelector('#df-14514648-3a14-4c81-9eaf-ee5bddba420f button.colab-df-quickchart');\n",
              "  quickchartButtonEl.style.display =\n",
              "    google.colab.kernel.accessAllowed ? 'block' : 'none';\n",
              "}\n",
              "\n",
              "        displayQuickchartButton(document);\n",
              "      </script>\n",
              "      <style>\n",
              "    .colab-df-container {\n",
              "      display:flex;\n",
              "      flex-wrap:wrap;\n",
              "      gap: 12px;\n",
              "    }\n",
              "\n",
              "    .colab-df-convert {\n",
              "      background-color: #E8F0FE;\n",
              "      border: none;\n",
              "      border-radius: 50%;\n",
              "      cursor: pointer;\n",
              "      display: none;\n",
              "      fill: #1967D2;\n",
              "      height: 32px;\n",
              "      padding: 0 0 0 0;\n",
              "      width: 32px;\n",
              "    }\n",
              "\n",
              "    .colab-df-convert:hover {\n",
              "      background-color: #E2EBFA;\n",
              "      box-shadow: 0px 1px 2px rgba(60, 64, 67, 0.3), 0px 1px 3px 1px rgba(60, 64, 67, 0.15);\n",
              "      fill: #174EA6;\n",
              "    }\n",
              "\n",
              "    [theme=dark] .colab-df-convert {\n",
              "      background-color: #3B4455;\n",
              "      fill: #D2E3FC;\n",
              "    }\n",
              "\n",
              "    [theme=dark] .colab-df-convert:hover {\n",
              "      background-color: #434B5C;\n",
              "      box-shadow: 0px 1px 3px 1px rgba(0, 0, 0, 0.15);\n",
              "      filter: drop-shadow(0px 1px 2px rgba(0, 0, 0, 0.3));\n",
              "      fill: #FFFFFF;\n",
              "    }\n",
              "  </style>\n",
              "\n",
              "      <script>\n",
              "        const buttonEl =\n",
              "          document.querySelector('#df-d778a66f-8c89-4656-b11b-3aa602a0a508 button.colab-df-convert');\n",
              "        buttonEl.style.display =\n",
              "          google.colab.kernel.accessAllowed ? 'block' : 'none';\n",
              "\n",
              "        async function convertToInteractive(key) {\n",
              "          const element = document.querySelector('#df-d778a66f-8c89-4656-b11b-3aa602a0a508');\n",
              "          const dataTable =\n",
              "            await google.colab.kernel.invokeFunction('convertToInteractive',\n",
              "                                                     [key], {});\n",
              "          if (!dataTable) return;\n",
              "\n",
              "          const docLinkHtml = 'Like what you see? Visit the ' +\n",
              "            '<a target=\"_blank\" href=https://colab.research.google.com/notebooks/data_table.ipynb>data table notebook</a>'\n",
              "            + ' to learn more about interactive tables.';\n",
              "          element.innerHTML = '';\n",
              "          dataTable['output_type'] = 'display_data';\n",
              "          await google.colab.output.renderOutput(dataTable, element);\n",
              "          const docLink = document.createElement('div');\n",
              "          docLink.innerHTML = docLinkHtml;\n",
              "          element.appendChild(docLink);\n",
              "        }\n",
              "      </script>\n",
              "    </div>\n",
              "  </div>\n"
            ]
          },
          "metadata": {},
          "execution_count": 40
        }
      ]
    },
    {
      "cell_type": "code",
      "source": [
        "train_test_df['filename'][train_test_df['filename'].isnull()]"
      ],
      "metadata": {
        "colab": {
          "base_uri": "https://localhost:8080/"
        },
        "id": "ppjvHFGqYnWz",
        "outputId": "1551b60b-c73f-41b4-a9c9-3e3a3faf92b1"
      },
      "execution_count": null,
      "outputs": [
        {
          "output_type": "execute_result",
          "data": {
            "text/plain": [
              "Series([], Name: filename, dtype: object)"
            ]
          },
          "metadata": {},
          "execution_count": 41
        }
      ]
    },
    {
      "cell_type": "code",
      "source": [
        "train_test_df.to_csv(\"/content/drive/MyDrive/matlab 공모전/csv(표)/Train_Test_feature_reindex.csv\")"
      ],
      "metadata": {
        "id": "CiwgF1eqaOqx"
      },
      "execution_count": null,
      "outputs": []
    },
    {
      "cell_type": "code",
      "source": [
        "total = train_test_df.shape[0]"
      ],
      "metadata": {
        "id": "02-0VVMsX8V9"
      },
      "execution_count": null,
      "outputs": []
    },
    {
      "cell_type": "code",
      "source": [
        "total"
      ],
      "metadata": {
        "colab": {
          "base_uri": "https://localhost:8080/"
        },
        "id": "wHqcFAACX9AW",
        "outputId": "ca27d451-d78b-41cb-bd06-4f1da323bad6"
      },
      "execution_count": null,
      "outputs": [
        {
          "output_type": "execute_result",
          "data": {
            "text/plain": [
              "14630"
            ]
          },
          "metadata": {},
          "execution_count": 44
        }
      ]
    },
    {
      "cell_type": "code",
      "source": [
        "total % 11"
      ],
      "metadata": {
        "colab": {
          "base_uri": "https://localhost:8080/"
        },
        "id": "6Dd9Nd05YEQY",
        "outputId": "9161d282-8671-4937-de55-69d02e5eb4c3"
      },
      "execution_count": null,
      "outputs": [
        {
          "output_type": "execute_result",
          "data": {
            "text/plain": [
              "0"
            ]
          },
          "metadata": {},
          "execution_count": 45
        }
      ]
    },
    {
      "cell_type": "code",
      "source": [
        "total /11"
      ],
      "metadata": {
        "colab": {
          "base_uri": "https://localhost:8080/"
        },
        "id": "5PzdWGYqah6p",
        "outputId": "1e3d3277-cb46-45ac-941b-6d2aedde094c"
      },
      "execution_count": null,
      "outputs": [
        {
          "output_type": "execute_result",
          "data": {
            "text/plain": [
              "1330.0"
            ]
          },
          "metadata": {},
          "execution_count": 46
        }
      ]
    },
    {
      "cell_type": "code",
      "source": [
        "TrainTest_list = train_test_df['filename'].values"
      ],
      "metadata": {
        "id": "rzpzhzLmSlG4"
      },
      "execution_count": null,
      "outputs": []
    },
    {
      "cell_type": "code",
      "source": [
        "zero_tal = ['0'] * total\n",
        "train_test_df['tal'] = zero_tal"
      ],
      "metadata": {
        "id": "iWv9cTsjS-RF"
      },
      "execution_count": null,
      "outputs": []
    },
    {
      "cell_type": "code",
      "source": [
        "#15000장 라벨링\n",
        "#k=0\n",
        "#for t in range(total):\n",
        "#  name = human_names[k]\n",
        "#  while (name +'_0001' not in TrainTest_list[t]):\n",
        "#    k+=1\n",
        "#  train_test_df.iloc[t]['tal'] = human_label[k]\n",
        "\n",
        "\n",
        "k = 0\n",
        "for t in range(total):\n",
        "    name = human_names[k]\n",
        "    while name + '_0001' not in TrainTest_list[t]:\n",
        "        k += 1\n",
        "        name = human_names[k]  # 다음 인덱스의 이름을 확인\n",
        "\n",
        "    train_test_df.at[t, 'tal'] = human_label[k]\n"
      ],
      "metadata": {
        "id": "3OZ9ZUeYNuOZ"
      },
      "execution_count": null,
      "outputs": []
    },
    {
      "cell_type": "code",
      "source": [
        "train_test_df['tal']"
      ],
      "metadata": {
        "colab": {
          "base_uri": "https://localhost:8080/"
        },
        "id": "quyg1z0gHPoV",
        "outputId": "6a274265-09e5-4947-d30f-b586822934f9"
      },
      "execution_count": null,
      "outputs": [
        {
          "output_type": "execute_result",
          "data": {
            "text/plain": [
              "0        0\n",
              "1        0\n",
              "2        0\n",
              "3        0\n",
              "4        0\n",
              "        ..\n",
              "14625    2\n",
              "14626    2\n",
              "14627    2\n",
              "14628    2\n",
              "14629    2\n",
              "Name: tal, Length: 14630, dtype: object"
            ]
          },
          "metadata": {},
          "execution_count": 51
        }
      ]
    },
    {
      "cell_type": "code",
      "source": [
        "train_test_df.to_csv(\"/content/drive/MyDrive/matlab 공모전/csv(표)/Train_Test_feature_label.csv\")"
      ],
      "metadata": {
        "id": "HuhlMvDq2-cL"
      },
      "execution_count": null,
      "outputs": []
    },
    {
      "cell_type": "code",
      "source": [
        "train_test_df['filename'][train_test_df['filename'].isnull()]"
      ],
      "metadata": {
        "id": "oZV0_2PHcWdt",
        "outputId": "8edbaa9a-2054-4878-e2fb-83c7931cd2f2",
        "colab": {
          "base_uri": "https://localhost:8080/"
        }
      },
      "execution_count": null,
      "outputs": [
        {
          "output_type": "execute_result",
          "data": {
            "text/plain": [
              "Series([], Name: filename, dtype: object)"
            ]
          },
          "metadata": {},
          "execution_count": 53
        }
      ]
    }
  ]
}