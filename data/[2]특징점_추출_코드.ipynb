{
  "cells": [
    {
      "cell_type": "code",
      "execution_count": null,
      "metadata": {
        "id": "gTkFuzFqELdU",
        "colab": {
          "base_uri": "https://localhost:8080/"
        },
        "outputId": "27a712f3-d306-42ea-df9a-cacb44c5dcd5"
      },
      "outputs": [
        {
          "output_type": "stream",
          "name": "stdout",
          "text": [
            "Drive already mounted at /content/drive; to attempt to forcibly remount, call drive.mount(\"/content/drive\", force_remount=True).\n"
          ]
        }
      ],
      "source": [
        "from google.colab import drive\n",
        "drive.mount('/content/drive')"
      ]
    },
    {
      "cell_type": "code",
      "execution_count": null,
      "metadata": {
        "id": "-5r7YH5BTSEB"
      },
      "outputs": [],
      "source": [
        "#각도 feature 추출 함수\n",
        "import math\n",
        "def dist(v) :\n",
        "    return math.sqrt(v[0]**2+v[1]**2)\n",
        "\n",
        "def angleBetweenTwo(v1, v2):\n",
        "\n",
        "    distA = dist(v1)\n",
        "    distB = dist(v2)\n",
        "\n",
        "    ip = v1[0]*v2[0] + v1[1]*v2[1]\n",
        "    ip2= distA* distB\n",
        "    cost = ip/ ip2\n",
        "    return(cost)"
      ]
    },
    {
      "cell_type": "markdown",
      "source": [
        "#[1] 특징점 인식을 위한 라이브러리, 이미지 디렉토리 변수에 저장"
      ],
      "metadata": {
        "id": "7bjBpG9Oyve2"
      }
    },
    {
      "cell_type": "code",
      "source": [
        "import numpy as np\n",
        "import cv2\n",
        "import dlib\n",
        "\n",
        "from google.colab.patches import cv2_imshow\n",
        "import os\n",
        "\n",
        "# 얼굴 검출을 위한 dlib 얼굴 인식 모델\n",
        "detector = dlib.get_frontal_face_detector()\n",
        "\n",
        "# 얼굴 특징점 검출을 위한 dlib 얼굴 인식 모델\n",
        "faceCascade = cv2. CascadeClassifier ('/content/drive/MyDrive/Colab Notebooks/haarcascade_frontalface_default.txt')\n",
        "predictor = dlib.shape_predictor (\"/content/drive/MyDrive/Colab Notebooks/shape_predictor_68_face_landmarks.dat\")\n",
        "\n",
        "# 이미지가 저장된 디렉토리 경로\n",
        "img_dir_path = '/content/drive/MyDrive/matlab 공모전/data_file/train_test_data'"
      ],
      "metadata": {
        "id": "j0In71ykQwKM"
      },
      "execution_count": null,
      "outputs": []
    },
    {
      "cell_type": "markdown",
      "source": [
        "## 이미지 데이터 개수 확인\n"
      ],
      "metadata": {
        "id": "rN2r1TjiVRnI"
      }
    },
    {
      "cell_type": "code",
      "execution_count": null,
      "metadata": {
        "id": "g422wFpETVT-",
        "colab": {
          "base_uri": "https://localhost:8080/"
        },
        "outputId": "db2263cc-f44d-425e-d47c-c828bcdda68b"
      },
      "outputs": [
        {
          "output_type": "execute_result",
          "data": {
            "text/plain": [
              "15059"
            ]
          },
          "metadata": {},
          "execution_count": 25
        }
      ],
      "source": [
        "#총 데이터 개수:\n",
        "total_num=0\n",
        "img_dir_path = '/content/drive/MyDrive/matlab 공모전/data_file/train_test_data'\n",
        "for filename in os.listdir(img_dir_path):\n",
        "    if filename.endswith(\".jpg\"):\n",
        "        # 이미지 파일 읽기\n",
        "        total_num+=1\n",
        "total_num"
      ]
    },
    {
      "cell_type": "markdown",
      "source": [
        "## 파일 이름 내림차순 정렬\n",
        "feature 데이터프레임에 입력되는 순서 = 파일 이름 내림차순"
      ],
      "metadata": {
        "id": "qkXDM3RHyiGa"
      }
    },
    {
      "cell_type": "code",
      "source": [
        "#정렬한 파일이름\n",
        "A = os.listdir(img_dir_path)\n",
        "sorted_fname = sorted(A)"
      ],
      "metadata": {
        "id": "O8jKms6ciXtP"
      },
      "execution_count": null,
      "outputs": []
    },
    {
      "cell_type": "code",
      "source": [
        "t_path='/content/drive/MyDrive/matlab 공모전/data_file/train_test_data'\n",
        "tlist = os.listdir(t_path)\n",
        "t_sorted=sorted(tlist)"
      ],
      "metadata": {
        "id": "W8Nauyb9V-Q8"
      },
      "execution_count": null,
      "outputs": []
    },
    {
      "cell_type": "code",
      "execution_count": null,
      "metadata": {
        "id": "ZtbgQj3tTgZI"
      },
      "outputs": [],
      "source": [
        "#1.인식된 얼굴 사진이라면, train_test_df에 feature 저장\n",
        "import pandas as pd\n",
        "t=0\n",
        "count=0\n",
        "train_test_df = pd.DataFrame(index = range(total_num), columns = ('filename','leye_ratio','reye_ratio','eye_angle', 'nose_ratio','chin_sharp'))"
      ]
    },
    {
      "cell_type": "markdown",
      "source": [
        "#[2] 모든 이미지에 대해 특징점 인식후, feature값 추출"
      ],
      "metadata": {
        "id": "7fXblyZLWlnA"
      }
    },
    {
      "cell_type": "code",
      "source": [
        "#전체 데이터 feature 만들기\n",
        "total_fin = 0\n",
        "for t in range(len(t_sorted)):\n",
        "      filename = t_sorted[t]\n",
        "      # 이미지 파일 읽기\n",
        "      img_path = os.path.join(img_dir_path, filename)\n",
        "      img = cv2.imread(img_path)\n",
        "\n",
        "      # 이미지를 그레이스케일로 변환\n",
        "      gray = cv2.cvtColor(img, cv2.COLOR_BGR2GRAY)\n",
        "\n",
        "      # 얼굴 및 68개 얼굴 특징점 검출\n",
        "      faces = detector(gray, 1)\n",
        "      #얼굴에 사각형을 친다.\n",
        "      for box in faces:\n",
        "          x1 = box.left()\n",
        "          y1 = box.top()\n",
        "          x2 = box.right()\n",
        "          y2 = box.bottom()\n",
        "          dlib_rect = dlib.rectangle(x1, y1, x2, y2)\n",
        "          #landmarks_display : 68개 얼굴 특징점 위치에 접근\n",
        "          landmarks = np.array([[p.x, p.y] for p in predictor(img, dlib_rect).parts()])\n",
        "          landmarks_display = landmarks[0:68]\n",
        "\n",
        "          #feature 추출에 필요한 눈 특징점\n",
        "          lefttop = [0,0]\n",
        "          leftbot = [0,0]\n",
        "          righttop = [0,0]\n",
        "          rightbot = [0,0]\n",
        "\n",
        "          leftle = np.squeeze(np.asarray(landmarks_display[36]))\n",
        "          leftri = np.squeeze(np.asarray(landmarks_display[39]))\n",
        "          lefttop1 = np.squeeze(np.asarray(landmarks_display[37]))\n",
        "          lefttop2 = np.squeeze(np.asarray(landmarks_display[38]))\n",
        "          leftbot1 = np.squeeze(np.asarray(landmarks_display[41]))\n",
        "          leftbot2 = np.squeeze(np.asarray(landmarks_display[40]))\n",
        "\n",
        "          rightle = np.squeeze(np.asarray(landmarks_display[42]))\n",
        "          rightri = np.squeeze(np.asarray(landmarks_display[45]))\n",
        "          righttop1 = np.squeeze(np.asarray(landmarks_display[43]))\n",
        "          righttop2 = np.squeeze(np.asarray(landmarks_display[44]))\n",
        "          rightbot1 = np.squeeze(np.asarray(landmarks_display[47]))\n",
        "          rightbot2 = np.squeeze(np.asarray(landmarks_display[46]))\n",
        "\n",
        "          #중앙 점을 저장함.\n",
        "          lefttop[0] = (lefttop1[0]+lefttop2[0])/2\n",
        "          lefttop[1] =(lefttop1[1]+lefttop2[1])/2\n",
        "          leftbot[0] = (leftbot1[0]+leftbot2[0])/2\n",
        "          leftbot[1] = (leftbot1[1]+leftbot2[1])/2\n",
        "\n",
        "          righttop[0] = (lefttop1[0]+lefttop2[0])/2\n",
        "          righttop[1] =(lefttop1[1]+lefttop2[1])/2\n",
        "          rightbot[0] = (leftbot1[0]+leftbot2[0])/2\n",
        "          rightbot[1] = (leftbot1[1]+leftbot2[1])/2\n",
        "\n",
        "\n",
        "          #양눈 높이/너비 비율\n",
        "          leye_wid=math.sqrt((leftle[0]-leftri[0])**2+(leftle[1]-leftri[1])**2)\n",
        "          leye_hgt = math.sqrt((lefttop[0]-rightbot[0])**2+(lefttop[1]-leftbot[1])**2)\n",
        "\n",
        "          reye_wid =math.sqrt((rightle[0]-rightri[0])**2+(rightle[1]-rightri[1])**2)\n",
        "          reye_hgt =math.sqrt((righttop[0]-rightbot[0])**2+(righttop[1]-rightbot[1])**2)\n",
        "\n",
        "          leye_ratio = leye_hgt/leye_wid\n",
        "          reye_ratio = reye_hgt/reye_wid\n",
        "\n",
        "          #양눈 각도\n",
        "          c=  np.squeeze(np.asarray(landmarks_display[42]))\n",
        "          d =  np.squeeze(np.asarray(landmarks_display[45]))\n",
        "          e = np.squeeze(np.asarray(landmarks_display[36]))\n",
        "          f = np.squeeze(np.asarray(landmarks_display[39]))\n",
        "\n",
        "          reye_vec = d-c\n",
        "          leye_vec = e-f\n",
        "          eye_angle = angleBetweenTwo(reye_vec, leye_vec)\n",
        "\n",
        "          #코 너비/길이 (얇은가, 넓은가?)\n",
        "          nosele = np.squeeze(np.asarray(landmarks_display[31]))\n",
        "          noseri = np.squeeze(np.asarray(landmarks_display[35]))\n",
        "          nosetop = np.squeeze(np.asarray(landmarks_display[27]))\n",
        "          nosebot = np.squeeze(np.asarray(landmarks_display[33]))\n",
        "\n",
        "          nose_wid=math.sqrt((nosele[0]-noseri[0])**2+(nosele[1]-noseri[1])**2)\n",
        "          nose_hgt = math.sqrt((nosetop[0]-nosebot[0])**2+(nosetop[1]-nosebot[1])**2)\n",
        "          nose_ratio = nose_wid/nose_hgt\n",
        "\n",
        "          #좁아지는각도\n",
        "          left =  np.squeeze(np.asarray(landmarks_display[5]))\n",
        "          chinbot =  np.squeeze(np.asarray(landmarks_display[8]))\n",
        "          right =  np.squeeze(np.asarray(landmarks_display[11]))\n",
        "\n",
        "\n",
        "          l = chinbot-left\n",
        "          r = chinbot-right\n",
        "\n",
        "          chin_sharp =  angleBetweenTwo(l, r)\n",
        "          train_test_df.iloc[t][0] = filename\n",
        "          train_test_df.iloc[t][1] = leye_ratio\n",
        "          train_test_df.iloc[t][2] = reye_ratio\n",
        "          train_test_df.iloc[t][3] = eye_angle\n",
        "          train_test_df.iloc[t][4] = nose_ratio\n",
        "          train_test_df.iloc[t][5] = chin_sharp\n",
        "          total_fin +=1\n",
        "          t+=1"
      ],
      "metadata": {
        "id": "ojI8KxumFryT"
      },
      "execution_count": null,
      "outputs": []
    },
    {
      "cell_type": "code",
      "source": [
        "#인식된 파일 개수\n",
        "total_fin"
      ],
      "metadata": {
        "id": "_zY6bDN2X0PK",
        "colab": {
          "base_uri": "https://localhost:8080/"
        },
        "outputId": "0810a275-463f-4f58-94d5-39da3da77e81"
      },
      "execution_count": null,
      "outputs": [
        {
          "output_type": "execute_result",
          "data": {
            "text/plain": [
              "15007"
            ]
          },
          "metadata": {},
          "execution_count": 44
        }
      ]
    },
    {
      "cell_type": "code",
      "source": [
        "#인식안된 파일의 인덱스\n",
        "train_test_df['filename'][train_test_df['filename'].isnull()]"
      ],
      "metadata": {
        "id": "r4nFEMbjGG6N",
        "colab": {
          "base_uri": "https://localhost:8080/"
        },
        "outputId": "0c5e3ee6-b9f8-42ce-b4ec-21a88d67d495"
      },
      "execution_count": null,
      "outputs": [
        {
          "output_type": "execute_result",
          "data": {
            "text/plain": [
              "780      NaN\n",
              "1319     NaN\n",
              "1560     NaN\n",
              "1670     NaN\n",
              "2605     NaN\n",
              "2781     NaN\n",
              "2914     NaN\n",
              "3166     NaN\n",
              "3481     NaN\n",
              "3740     NaN\n",
              "3741     NaN\n",
              "3742     NaN\n",
              "3743     NaN\n",
              "3744     NaN\n",
              "3745     NaN\n",
              "3746     NaN\n",
              "3747     NaN\n",
              "3748     NaN\n",
              "3749     NaN\n",
              "3750     NaN\n",
              "3914     NaN\n",
              "4211     NaN\n",
              "4365     NaN\n",
              "4729     NaN\n",
              "4861     NaN\n",
              "5670     NaN\n",
              "5674     NaN\n",
              "5675     NaN\n",
              "5730     NaN\n",
              "5961     NaN\n",
              "6265     NaN\n",
              "6874     NaN\n",
              "8144     NaN\n",
              "8145     NaN\n",
              "8150     NaN\n",
              "8270     NaN\n",
              "8271     NaN\n",
              "8348     NaN\n",
              "8403     NaN\n",
              "8865     NaN\n",
              "9249     NaN\n",
              "9488     NaN\n",
              "9492     NaN\n",
              "10052    NaN\n",
              "10053    NaN\n",
              "10592    NaN\n",
              "11141    NaN\n",
              "11241    NaN\n",
              "11372    NaN\n",
              "11702    NaN\n",
              "11703    NaN\n",
              "11878    NaN\n",
              "11879    NaN\n",
              "12461    NaN\n",
              "12462    NaN\n",
              "12615    NaN\n",
              "12616    NaN\n",
              "13298    NaN\n",
              "13958    NaN\n",
              "15057    NaN\n",
              "Name: filename, dtype: object"
            ]
          },
          "metadata": {},
          "execution_count": 45
        }
      ]
    },
    {
      "cell_type": "code",
      "source": [
        "#결측치 개수\n",
        "train_test_df.isnull().sum()"
      ],
      "metadata": {
        "colab": {
          "base_uri": "https://localhost:8080/"
        },
        "id": "LN_d8XZGxq_I",
        "outputId": "2b0fd90e-6ee2-4d6e-c3e4-a345dbf20a51"
      },
      "execution_count": null,
      "outputs": [
        {
          "output_type": "execute_result",
          "data": {
            "text/plain": [
              "filename      60\n",
              "leye_ratio    60\n",
              "reye_ratio    60\n",
              "eye_angle     60\n",
              "nose_ratio    60\n",
              "chin_sharp    60\n",
              "dtype: int64"
            ]
          },
          "metadata": {},
          "execution_count": 40
        }
      ]
    },
    {
      "cell_type": "markdown",
      "source": [
        "#[]최종 feature값들 데이터프레임으로 저장"
      ],
      "metadata": {
        "id": "IBig6V1Y2CzS"
      }
    },
    {
      "cell_type": "code",
      "source": [
        "train_test_df.to_csv('/content/drive/MyDrive/matlab 공모전/csv(표)/TrainTest_feature.csv', mode = 'a', index = \"False\")"
      ],
      "metadata": {
        "id": "i1cFHkFIXMH0"
      },
      "execution_count": null,
      "outputs": []
    }
  ],
  "metadata": {
    "colab": {
      "provenance": []
    },
    "kernelspec": {
      "display_name": "Python 3",
      "name": "python3"
    },
    "language_info": {
      "name": "python"
    }
  },
  "nbformat": 4,
  "nbformat_minor": 0
}
