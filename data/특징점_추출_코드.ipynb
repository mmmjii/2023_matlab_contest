{
  "cells": [
    {
      "cell_type": "code",
      "execution_count": null,
      "metadata": {
        "id": "gTkFuzFqELdU",
        "colab": {
          "base_uri": "https://localhost:8080/"
        },
        "outputId": "27a712f3-d306-42ea-df9a-cacb44c5dcd5"
      },
      "outputs": [
        {
          "output_type": "stream",
          "name": "stdout",
          "text": [
            "Drive already mounted at /content/drive; to attempt to forcibly remount, call drive.mount(\"/content/drive\", force_remount=True).\n"
          ]
        }
      ],
      "source": [
        "from google.colab import drive\n",
        "drive.mount('/content/drive')"
      ]
    },
    {
      "cell_type": "code",
      "execution_count": null,
      "metadata": {
        "id": "-5r7YH5BTSEB"
      },
      "outputs": [],
      "source": [
        "import math\n",
        "def dist(v) :\n",
        "    return math.sqrt(v[0]**2+v[1]**2)\n",
        "\n",
        "def angleBetweenTwo(v1, v2):\n",
        "\n",
        "    distA = dist(v1)\n",
        "    distB = dist(v2)\n",
        "\n",
        "    ip = v1[0]*v2[0] + v1[1]*v2[1]\n",
        "    ip2= distA* distB\n",
        "    cost = ip/ ip2\n",
        "\n",
        "    #x = math.acos(cost)\n",
        "    #degX = math.degrees(x)\n",
        "    return(cost)"
      ]
    },
    {
      "cell_type": "code",
      "source": [
        "import numpy as np\n",
        "import cv2\n",
        "import dlib\n",
        "\n",
        "from google.colab.patches import cv2_imshow\n",
        "import os\n",
        "\n",
        "# 얼굴 검출을 위한 dlib 얼굴 인식 모델\n",
        "detector = dlib.get_frontal_face_detector()\n",
        "\n",
        "# 얼굴 특징점 검출을 위한 dlib 얼굴 인식 모델\n",
        "\n",
        "faceCascade = cv2. CascadeClassifier ('/content/drive/MyDrive/Colab Notebooks/haarcascade_frontalface_default.txt')\n",
        "predictor = dlib.shape_predictor (\"/content/drive/MyDrive/Colab Notebooks/shape_predictor_68_face_landmarks.dat\")\n",
        "\n",
        "# 이미지가 저장된 디렉토리 경로\n",
        "img_dir_path = '/content/drive/MyDrive/matlab 공모전/data_file/train_test_data'\n",
        "# 얼굴 이미지가 저장될 디렉토리 경로\n",
        "#face_dir_path = '/content/drive/MyDrive/matlab 공모전/data_file/얼굴을 저장한 폴더'"
      ],
      "metadata": {
        "id": "j0In71ykQwKM"
      },
      "execution_count": null,
      "outputs": []
    },
    {
      "cell_type": "markdown",
      "source": [
        "###추가 trash 3장(복사본2장, 쪽쪽이1장) 증강 빼기\n",
        "import shutil\n",
        "noUse=0\n",
        "test_dir = '/content/drive/MyDrive/matlab 공모전/data_file/1차trash'\n",
        "trash_dir = '/content/drive/MyDrive/matlab 공모전/data_file/3차trash'\n",
        "for filename in os.listdir(img_dir_path):\n",
        "    # \"이름\" in filename\n",
        "    if (\"Michael_Phelps_0001\" in filename or\n",
        "    \"Tom_Welch_0001(1)\" in filename or \"Dorthy_Moxley_0001(1)\" in filename):\n",
        "        # 이미지 파일 읽기\n",
        "        print(filename)\n",
        "        #dst = os.path.join(test_dir, filename)\n",
        "        #shutil.move(dst,trash_dir)\n",
        "        noUse+=1\n",
        "    else : continue\n",
        "    \"Keith_Brown_0001\" in filename or \"Marian_Dolan_0001\" in filename\n",
        "      or \"Matt_Anderson_0001\" in filename or \"Perry_Compton_0001\" in filename or\n",
        "      \"Robert_Bullock_0001\" in filename or \"Yasser_Arafat_0001\" in filename\n",
        "  noUse"
      ],
      "metadata": {
        "id": "IRJOmS2DSJHE"
      }
    },
    {
      "cell_type": "markdown",
      "source": [
        "## train_test_data 개수 확인"
      ],
      "metadata": {
        "id": "rN2r1TjiVRnI"
      }
    },
    {
      "cell_type": "code",
      "execution_count": null,
      "metadata": {
        "id": "g422wFpETVT-",
        "colab": {
          "base_uri": "https://localhost:8080/"
        },
        "outputId": "db2263cc-f44d-425e-d47c-c828bcdda68b"
      },
      "outputs": [
        {
          "output_type": "execute_result",
          "data": {
            "text/plain": [
              "15059"
            ]
          },
          "metadata": {},
          "execution_count": 25
        }
      ],
      "source": [
        "#총 데이터 개수:\n",
        "total_num=0\n",
        "img_dir_path = '/content/drive/MyDrive/matlab 공모전/data_file/train_test_data'\n",
        "for filename in os.listdir(img_dir_path):\n",
        "    if filename.endswith(\".jpg\"):\n",
        "        # 이미지 파일 읽기\n",
        "        total_num+=1\n",
        "total_num"
      ]
    },
    {
      "cell_type": "code",
      "source": [
        "#원본 데이터 개수:\n",
        "origin_num=0\n",
        "for filename in os.listdir(img_dir_path):\n",
        "    if filename.endswith(\"0001.jpg\"):\n",
        "        # 이미지 파일 읽기\n",
        "        origin_num+=1\n",
        "origin_num"
      ],
      "metadata": {
        "id": "vjaCBytK5tGS",
        "colab": {
          "base_uri": "https://localhost:8080/"
        },
        "outputId": "a1c6fcbb-06e8-4c63-9d29-d42b13964fa6"
      },
      "execution_count": null,
      "outputs": [
        {
          "output_type": "execute_result",
          "data": {
            "text/plain": [
              "1369"
            ]
          },
          "metadata": {},
          "execution_count": 26
        }
      ]
    },
    {
      "cell_type": "code",
      "source": [
        "total_num % origin_num"
      ],
      "metadata": {
        "colab": {
          "base_uri": "https://localhost:8080/"
        },
        "id": "3TzfnrR-Qgdc",
        "outputId": "01331cde-518e-4b4a-d592-3f57c787e72e"
      },
      "execution_count": null,
      "outputs": [
        {
          "output_type": "execute_result",
          "data": {
            "text/plain": [
              "0"
            ]
          },
          "metadata": {},
          "execution_count": 27
        }
      ]
    },
    {
      "cell_type": "code",
      "source": [
        "o = 0\n",
        "olist = ['']*origin_num\n",
        "oo = [0]*origin_num\n",
        "for filename in os.listdir(img_dir_path):\n",
        "    if filename.endswith(\"0001.jpg\"):\n",
        "        olist[o] = filename\n",
        "        o+=1\n",
        "origin_list = sorted(olist)"
      ],
      "metadata": {
        "id": "KrIanpiLpr-Q"
      },
      "execution_count": null,
      "outputs": []
    },
    {
      "cell_type": "code",
      "source": [
        "origin_name = pd.DataFrame(zip(origin_list,oo), columns = ('name','oo'))"
      ],
      "metadata": {
        "id": "1FYqYXQS5hM7"
      },
      "execution_count": null,
      "outputs": []
    },
    {
      "cell_type": "code",
      "source": [
        "origin_name.to_csv('/content/drive/MyDrive/matlab 공모전/csv(표)/Origin_Name.csv', mode = 'a', index = \"False\")"
      ],
      "metadata": {
        "id": "s47zn2rE3A42"
      },
      "execution_count": null,
      "outputs": []
    },
    {
      "cell_type": "code",
      "source": [
        "import re\n",
        "def printHumanName(string):\n",
        "  #nana = \"use_front_crop_Aaron_Eckhart_0001_brightness_brightrange_1.jpg\"\n",
        "  try:\n",
        "    found = re.search('crop_(.+?)_0001', string).group(1)\n",
        "    return found\n",
        "  except AttributeError:\n",
        "    pass"
      ],
      "metadata": {
        "id": "gqC2N7S3c2S9"
      },
      "execution_count": null,
      "outputs": []
    },
    {
      "cell_type": "code",
      "source": [
        "an = \"crop_Gana_0001\"\n",
        "go = printHumanName(an)\n",
        "type(go)"
      ],
      "metadata": {
        "colab": {
          "base_uri": "https://localhost:8080/"
        },
        "id": "JZOfGmT_ejLM",
        "outputId": "46b2ddef-be06-4361-960c-b16098780f3b"
      },
      "execution_count": null,
      "outputs": [
        {
          "output_type": "execute_result",
          "data": {
            "text/plain": [
              "str"
            ]
          },
          "metadata": {},
          "execution_count": 32
        }
      ]
    },
    {
      "cell_type": "code",
      "source": [
        "#정렬한 파일이름\n",
        "A = os.listdir(img_dir_path)\n",
        "sorted_fname = sorted(A)"
      ],
      "metadata": {
        "id": "O8jKms6ciXtP"
      },
      "execution_count": null,
      "outputs": []
    },
    {
      "cell_type": "code",
      "source": [
        "#원본 없는 두장 사진 찾기:\n",
        "#copy_num : 같은 사람 증강사진 개수 - 11개, fit_num : 11개인 사람, 11개 아니면 filename 출력\n",
        "copy_num=0\n",
        "fit_num=0\n",
        "first =1\n",
        "\n",
        "#파일 정렬\n",
        "for i in range(len(sorted_fname)):\n",
        "    filename = sorted_fname[i]\n",
        "    if first==1:\n",
        "      human = printHumanName(filename)\n",
        "      copy_num = 1\n",
        "      first=0\n",
        "      continue\n",
        "    if human +\"_0001\" in filename:\n",
        "        copy_num+=1\n",
        "    else :\n",
        "      if copy_num == 11:\n",
        "        fit_num +=1\n",
        "        human = printHumanName(filename)\n",
        "        copy_num = 1\n",
        "      else:\n",
        "        print(human)\n",
        "        print(copy_num)\n",
        "        human = printHumanName(filename)\n",
        "        copy_num = 1\n",
        "print(copy_num)\n",
        "print(fit_num)"
      ],
      "metadata": {
        "colab": {
          "base_uri": "https://localhost:8080/"
        },
        "id": "gaOuNM2qXNP8",
        "outputId": "e89a4349-9bda-445a-9c44-28a01dfb2b37"
      },
      "execution_count": null,
      "outputs": [
        {
          "output_type": "stream",
          "name": "stdout",
          "text": [
            "11\n",
            "1368\n"
          ]
        }
      ]
    },
    {
      "cell_type": "code",
      "source": [
        "#표 만들기\n",
        "import pandas as pd\n",
        "j=0\n",
        "origin_df = pd.DataFrame(index = range(origin_num), columns = ('filename','leye_ratio','reye_ratio','eye_angle', 'nose_ratio','chin_sharp'))"
      ],
      "metadata": {
        "id": "FfnUXTVbc2Pz"
      },
      "execution_count": null,
      "outputs": []
    },
    {
      "cell_type": "code",
      "execution_count": null,
      "metadata": {
        "id": "xXhsY5XMEUpS",
        "colab": {
          "base_uri": "https://localhost:8080/",
          "height": 246
        },
        "outputId": "bbfc7f67-6385-4e11-fb0c-2e74f268ca0c"
      },
      "outputs": [
        {
          "output_type": "error",
          "ename": "KeyboardInterrupt",
          "evalue": "ignored",
          "traceback": [
            "\u001b[0;31m---------------------------------------------------------------------------\u001b[0m",
            "\u001b[0;31mKeyboardInterrupt\u001b[0m                         Traceback (most recent call last)",
            "\u001b[0;32m<ipython-input-36-e90d5a429912>\u001b[0m in \u001b[0;36m<cell line: 3>\u001b[0;34m()\u001b[0m\n\u001b[1;32m      5\u001b[0m       \u001b[0;31m# 이미지 파일 읽기\u001b[0m\u001b[0;34m\u001b[0m\u001b[0;34m\u001b[0m\u001b[0m\n\u001b[1;32m      6\u001b[0m       \u001b[0mimg_path\u001b[0m \u001b[0;34m=\u001b[0m \u001b[0mos\u001b[0m\u001b[0;34m.\u001b[0m\u001b[0mpath\u001b[0m\u001b[0;34m.\u001b[0m\u001b[0mjoin\u001b[0m\u001b[0;34m(\u001b[0m\u001b[0mimg_dir_path\u001b[0m\u001b[0;34m,\u001b[0m \u001b[0mfilename\u001b[0m\u001b[0;34m)\u001b[0m\u001b[0;34m\u001b[0m\u001b[0;34m\u001b[0m\u001b[0m\n\u001b[0;32m----> 7\u001b[0;31m       \u001b[0mimg\u001b[0m \u001b[0;34m=\u001b[0m \u001b[0mcv2\u001b[0m\u001b[0;34m.\u001b[0m\u001b[0mimread\u001b[0m\u001b[0;34m(\u001b[0m\u001b[0mimg_path\u001b[0m\u001b[0;34m)\u001b[0m\u001b[0;34m\u001b[0m\u001b[0;34m\u001b[0m\u001b[0m\n\u001b[0m\u001b[1;32m      8\u001b[0m \u001b[0;34m\u001b[0m\u001b[0m\n\u001b[1;32m      9\u001b[0m       \u001b[0;31m# 이미지를 그레이스케일로 변환\u001b[0m\u001b[0;34m\u001b[0m\u001b[0;34m\u001b[0m\u001b[0m\n",
            "\u001b[0;31mKeyboardInterrupt\u001b[0m: "
          ]
        }
      ],
      "source": [
        "#원본 데이터만 feature 만들기\n",
        "f_fin = 0\n",
        "for j in range(len(origin_list)):\n",
        "      filename = origin_list[j]\n",
        "      # 이미지 파일 읽기\n",
        "      img_path = os.path.join(img_dir_path, filename)\n",
        "      img = cv2.imread(img_path)\n",
        "\n",
        "      # 이미지를 그레이스케일로 변환\n",
        "      gray = cv2.cvtColor(img, cv2.COLOR_BGR2GRAY)\n",
        "\n",
        "      # 얼굴 검출\n",
        "      faces = detector(gray, 1)\n",
        "      #faces2 = faceCascade.detectMultiScale(gray, scaleFactor=1.1, minNeighbors=5, minSize=(30, 30))\n",
        "      #if len(faces2)==0:\n",
        "          #no_reg_df.iloc[k]['filename'] = filename\n",
        "          #k+=1\n",
        "          #print(filename + \"인식하지 못했습니다.\")\n",
        "          #continue\n",
        "      #else :\n",
        "      for box in faces:\n",
        "          x1 = box.left()\n",
        "          y1 = box.top()\n",
        "          x2 = box.right()\n",
        "          y2 = box.bottom()\n",
        "          dlib_rect = dlib.rectangle(x1, y1, x2, y2)\n",
        "          landmarks = np.array([[p.x, p.y] for p in predictor(img, dlib_rect).parts()])\n",
        "          landmarks_display = landmarks[0:68]\n",
        "\n",
        "        # 검출된 얼굴 영역과 특징점을 그리기 위해 numpy 배열로 변환\n",
        "         # points = np.zeros((68, 2), dtype=int)\n",
        "          #for i in range(0, 68):\n",
        "              #points[i] = landmarks[i]\n",
        "          # 얼굴 영역과 특징점을 이미지에 그림\n",
        "          #cv2.rectangle(img,( box.left(), box.top()), (box.right(), box.bottom()), (0, 255, 0), 2)\n",
        "          #for (x, y) in points:\n",
        "                #cv2.circle(img, (x, y), 2, (0, 0, 255), -1)\n",
        "          #cv2_imshow(img)\n",
        "          #print(filename)\n",
        "\n",
        "          #눈 비율 특징점\n",
        "          lefttop = [0,0]\n",
        "          leftbot = [0,0]\n",
        "          righttop = [0,0]\n",
        "          rightbot = [0,0]\n",
        "\n",
        "          leftle = np.squeeze(np.asarray(landmarks_display[36]))\n",
        "          leftri = np.squeeze(np.asarray(landmarks_display[39]))\n",
        "          lefttop1 = np.squeeze(np.asarray(landmarks_display[37]))\n",
        "          lefttop2 = np.squeeze(np.asarray(landmarks_display[38]))\n",
        "          leftbot1 = np.squeeze(np.asarray(landmarks_display[41]))\n",
        "          leftbot2 = np.squeeze(np.asarray(landmarks_display[40]))\n",
        "\n",
        "          lefttop[0] = (lefttop1[0]+lefttop2[0])/2\n",
        "          lefttop[1] =(lefttop1[1]+lefttop2[1])/2\n",
        "          leftbot[0] = (leftbot1[0]+leftbot2[0])/2\n",
        "          leftbot[1] = (leftbot1[1]+leftbot2[1])/2\n",
        "\n",
        "          rightle = np.squeeze(np.asarray(landmarks_display[42]))\n",
        "          rightri = np.squeeze(np.asarray(landmarks_display[45]))\n",
        "          righttop1 = np.squeeze(np.asarray(landmarks_display[43]))\n",
        "          righttop2 = np.squeeze(np.asarray(landmarks_display[44]))\n",
        "          rightbot1 = np.squeeze(np.asarray(landmarks_display[47]))\n",
        "          rightbot2 = np.squeeze(np.asarray(landmarks_display[46]))\n",
        "\n",
        "          righttop[0] = (lefttop1[0]+lefttop2[0])/2\n",
        "          righttop[1] =(lefttop1[1]+lefttop2[1])/2\n",
        "          rightbot[0] = (leftbot1[0]+leftbot2[0])/2\n",
        "          rightbot[1] = (leftbot1[1]+leftbot2[1])/2\n",
        "\n",
        "\n",
        "          #양눈 비율\n",
        "          leye_wid=math.sqrt((leftle[0]-leftri[0])**2+(leftle[1]-leftri[1])**2)\n",
        "          leye_hgt = math.sqrt((lefttop[0]-rightbot[0])**2+(lefttop[1]-leftbot[1])**2)\n",
        "\n",
        "          reye_wid =math.sqrt((rightle[0]-rightri[0])**2+(rightle[1]-rightri[1])**2)\n",
        "          reye_hgt =math.sqrt((righttop[0]-rightbot[0])**2+(righttop[1]-rightbot[1])**2)\n",
        "\n",
        "          leye_ratio = leye_hgt/leye_wid\n",
        "          reye_ratio = reye_hgt/reye_wid\n",
        "\n",
        "          #양눈 각도\n",
        "          #a =  np.squeeze(np.asarray(landmarks_display[27]))\n",
        "          #b=  np.squeeze(np.asarray(landmarks_display[30]))\n",
        "          c=  np.squeeze(np.asarray(landmarks_display[42]))\n",
        "          d =  np.squeeze(np.asarray(landmarks_display[45]))\n",
        "          e = np.squeeze(np.asarray(landmarks_display[36]))\n",
        "          f = np.squeeze(np.asarray(landmarks_display[39]))\n",
        "\n",
        "          #nose_vec = b-a\n",
        "          reye_vec = d-c\n",
        "          leye_vec = e-f\n",
        "\n",
        "          #reye_angle = angleBetweenTwo(nose_vec, reye_vec)\n",
        "          #leye_angle = angleBetweenTwo(nose_vec, leye_vec)\n",
        "          eye_angle = angleBetweenTwo(reye_vec, leye_vec)\n",
        "\n",
        "          #코 너비/길이 (얇은가, 넓은가?)\n",
        "          nosele = np.squeeze(np.asarray(landmarks_display[31]))\n",
        "          noseri = np.squeeze(np.asarray(landmarks_display[35]))\n",
        "          nosetop = np.squeeze(np.asarray(landmarks_display[27]))\n",
        "          nosebot = np.squeeze(np.asarray(landmarks_display[33]))\n",
        "\n",
        "          nose_wid=math.sqrt((nosele[0]-noseri[0])**2+(nosele[1]-noseri[1])**2)\n",
        "          nose_hgt = math.sqrt((nosetop[0]-nosebot[0])**2+(nosetop[1]-nosebot[1])**2)\n",
        "          nose_ratio = nose_wid/nose_hgt\n",
        "\n",
        "          #좁아지는각도\n",
        "          left =  np.squeeze(np.asarray(landmarks_display[5]))\n",
        "          chinbot =  np.squeeze(np.asarray(landmarks_display[8]))\n",
        "          right =  np.squeeze(np.asarray(landmarks_display[11]))\n",
        "\n",
        "\n",
        "          l = chinbot-left\n",
        "          r = chinbot-right\n",
        "\n",
        "          chin_sharp =  angleBetweenTwo(l, r)\n",
        "          origin_df.iloc[j][0] = filename\n",
        "          origin_df.iloc[j][1] = leye_ratio\n",
        "          origin_df.iloc[j][2] = reye_ratio\n",
        "          origin_df.iloc[j][3] = eye_angle\n",
        "          origin_df.iloc[j][4] = nose_ratio\n",
        "          origin_df.iloc[j][5] = chin_sharp\n",
        "          f_fin +=1\n",
        "          j+=1\n"
      ]
    },
    {
      "cell_type": "code",
      "source": [
        "f_fin"
      ],
      "metadata": {
        "id": "6BLQihkW0htN"
      },
      "execution_count": null,
      "outputs": []
    },
    {
      "cell_type": "code",
      "source": [
        "origin_df"
      ],
      "metadata": {
        "id": "2Q07x4ZAyFAn"
      },
      "execution_count": null,
      "outputs": []
    },
    {
      "cell_type": "code",
      "source": [
        "origin_df['filename'][origin_df['filename'].isnull()]"
      ],
      "metadata": {
        "id": "Sdy9ZJ8Pz8gU"
      },
      "execution_count": null,
      "outputs": []
    },
    {
      "cell_type": "code",
      "source": [
        "origin_df = origin_df.dropna()"
      ],
      "metadata": {
        "id": "tu6WZcCI0Ruy"
      },
      "execution_count": null,
      "outputs": []
    },
    {
      "cell_type": "code",
      "source": [
        "origin_df.to_csv('/content/drive/MyDrive/matlab 공모전/csv(표)/Origin_feature_1369.csv', mode = 'a', index = \"False\")"
      ],
      "metadata": {
        "id": "zHQwF-J7pAhg"
      },
      "execution_count": null,
      "outputs": []
    },
    {
      "cell_type": "code",
      "execution_count": null,
      "metadata": {
        "id": "ZtbgQj3tTgZI"
      },
      "outputs": [],
      "source": [
        "#표 만들기\n",
        "import pandas as pd\n",
        "t=0\n",
        "count=0\n",
        "train_test_df = pd.DataFrame(index = range(total_num), columns = ('filename','leye_ratio','reye_ratio','eye_angle', 'nose_ratio','chin_sharp'))\n",
        "no_reg_df = pd.DataFrame(index = range(0,100), columns =['filename'])"
      ]
    },
    {
      "cell_type": "markdown",
      "source": [
        "#여기 특징값 뽑기코드야!!"
      ],
      "metadata": {
        "id": "7fXblyZLWlnA"
      }
    },
    {
      "cell_type": "code",
      "source": [
        "#여기부터 돌려줘!!!\n",
        "t_path='/content/drive/MyDrive/matlab 공모전/data_file/train_test_data'\n",
        "tlist = os.listdir(t_path)\n",
        "t_sorted=sorted(tlist)"
      ],
      "metadata": {
        "id": "W8Nauyb9V-Q8"
      },
      "execution_count": null,
      "outputs": []
    },
    {
      "cell_type": "code",
      "source": [
        "#전체 데이터 feature 만들기\n",
        "total_fin = 0\n",
        "for t in range(len(t_sorted)):\n",
        "      filename = t_sorted[t]\n",
        "      # 이미지 파일 읽기\n",
        "      img_path = os.path.join(img_dir_path, filename)\n",
        "      img = cv2.imread(img_path)\n",
        "\n",
        "      # 이미지를 그레이스케일로 변환\n",
        "      gray = cv2.cvtColor(img, cv2.COLOR_BGR2GRAY)\n",
        "\n",
        "      # 얼굴 검출\n",
        "      faces = detector(gray, 1)\n",
        "      for box in faces:\n",
        "          x1 = box.left()\n",
        "          y1 = box.top()\n",
        "          x2 = box.right()\n",
        "          y2 = box.bottom()\n",
        "          dlib_rect = dlib.rectangle(x1, y1, x2, y2)\n",
        "          landmarks = np.array([[p.x, p.y] for p in predictor(img, dlib_rect).parts()])\n",
        "          landmarks_display = landmarks[0:68]\n",
        "\n",
        "          #눈 비율 특징점\n",
        "          lefttop = [0,0]\n",
        "          leftbot = [0,0]\n",
        "          righttop = [0,0]\n",
        "          rightbot = [0,0]\n",
        "\n",
        "          leftle = np.squeeze(np.asarray(landmarks_display[36]))\n",
        "          leftri = np.squeeze(np.asarray(landmarks_display[39]))\n",
        "          lefttop1 = np.squeeze(np.asarray(landmarks_display[37]))\n",
        "          lefttop2 = np.squeeze(np.asarray(landmarks_display[38]))\n",
        "          leftbot1 = np.squeeze(np.asarray(landmarks_display[41]))\n",
        "          leftbot2 = np.squeeze(np.asarray(landmarks_display[40]))\n",
        "\n",
        "          lefttop[0] = (lefttop1[0]+lefttop2[0])/2\n",
        "          lefttop[1] =(lefttop1[1]+lefttop2[1])/2\n",
        "          leftbot[0] = (leftbot1[0]+leftbot2[0])/2\n",
        "          leftbot[1] = (leftbot1[1]+leftbot2[1])/2\n",
        "\n",
        "          rightle = np.squeeze(np.asarray(landmarks_display[42]))\n",
        "          rightri = np.squeeze(np.asarray(landmarks_display[45]))\n",
        "          righttop1 = np.squeeze(np.asarray(landmarks_display[43]))\n",
        "          righttop2 = np.squeeze(np.asarray(landmarks_display[44]))\n",
        "          rightbot1 = np.squeeze(np.asarray(landmarks_display[47]))\n",
        "          rightbot2 = np.squeeze(np.asarray(landmarks_display[46]))\n",
        "\n",
        "          righttop[0] = (lefttop1[0]+lefttop2[0])/2\n",
        "          righttop[1] =(lefttop1[1]+lefttop2[1])/2\n",
        "          rightbot[0] = (leftbot1[0]+leftbot2[0])/2\n",
        "          rightbot[1] = (leftbot1[1]+leftbot2[1])/2\n",
        "\n",
        "\n",
        "          #양눈 비율\n",
        "          leye_wid=math.sqrt((leftle[0]-leftri[0])**2+(leftle[1]-leftri[1])**2)\n",
        "          leye_hgt = math.sqrt((lefttop[0]-rightbot[0])**2+(lefttop[1]-leftbot[1])**2)\n",
        "\n",
        "          reye_wid =math.sqrt((rightle[0]-rightri[0])**2+(rightle[1]-rightri[1])**2)\n",
        "          reye_hgt =math.sqrt((righttop[0]-rightbot[0])**2+(righttop[1]-rightbot[1])**2)\n",
        "\n",
        "          leye_ratio = leye_hgt/leye_wid\n",
        "          reye_ratio = reye_hgt/reye_wid\n",
        "\n",
        "          #양눈 각도\n",
        "          #a =  np.squeeze(np.asarray(landmarks_display[27]))\n",
        "          #b=  np.squeeze(np.asarray(landmarks_display[30]))\n",
        "          c=  np.squeeze(np.asarray(landmarks_display[42]))\n",
        "          d =  np.squeeze(np.asarray(landmarks_display[45]))\n",
        "          e = np.squeeze(np.asarray(landmarks_display[36]))\n",
        "          f = np.squeeze(np.asarray(landmarks_display[39]))\n",
        "\n",
        "          #nose_vec = b-a\n",
        "          reye_vec = d-c\n",
        "          leye_vec = e-f\n",
        "\n",
        "          #reye_angle = angleBetweenTwo(nose_vec, reye_vec)\n",
        "          #leye_angle = angleBetweenTwo(nose_vec, leye_vec)\n",
        "          eye_angle = angleBetweenTwo(reye_vec, leye_vec)\n",
        "\n",
        "          #코 너비/길이 (얇은가, 넓은가?)\n",
        "          nosele = np.squeeze(np.asarray(landmarks_display[31]))\n",
        "          noseri = np.squeeze(np.asarray(landmarks_display[35]))\n",
        "          nosetop = np.squeeze(np.asarray(landmarks_display[27]))\n",
        "          nosebot = np.squeeze(np.asarray(landmarks_display[33]))\n",
        "\n",
        "          nose_wid=math.sqrt((nosele[0]-noseri[0])**2+(nosele[1]-noseri[1])**2)\n",
        "          nose_hgt = math.sqrt((nosetop[0]-nosebot[0])**2+(nosetop[1]-nosebot[1])**2)\n",
        "          nose_ratio = nose_wid/nose_hgt\n",
        "\n",
        "          #좁아지는각도\n",
        "          left =  np.squeeze(np.asarray(landmarks_display[5]))\n",
        "          chinbot =  np.squeeze(np.asarray(landmarks_display[8]))\n",
        "          right =  np.squeeze(np.asarray(landmarks_display[11]))\n",
        "\n",
        "\n",
        "          l = chinbot-left\n",
        "          r = chinbot-right\n",
        "\n",
        "          chin_sharp =  angleBetweenTwo(l, r)\n",
        "          train_test_df.iloc[t][0] = filename\n",
        "          train_test_df.iloc[t][1] = leye_ratio\n",
        "          train_test_df.iloc[t][2] = reye_ratio\n",
        "          train_test_df.iloc[t][3] = eye_angle\n",
        "          train_test_df.iloc[t][4] = nose_ratio\n",
        "          train_test_df.iloc[t][5] = chin_sharp\n",
        "          total_fin +=1\n",
        "          t+=1"
      ],
      "metadata": {
        "id": "ojI8KxumFryT"
      },
      "execution_count": null,
      "outputs": []
    },
    {
      "cell_type": "code",
      "source": [
        "#총 파일개수:원래15059개\n",
        "total_fin"
      ],
      "metadata": {
        "id": "_zY6bDN2X0PK",
        "colab": {
          "base_uri": "https://localhost:8080/"
        },
        "outputId": "0810a275-463f-4f58-94d5-39da3da77e81"
      },
      "execution_count": null,
      "outputs": [
        {
          "output_type": "execute_result",
          "data": {
            "text/plain": [
              "15007"
            ]
          },
          "metadata": {},
          "execution_count": 44
        }
      ]
    },
    {
      "cell_type": "code",
      "source": [
        "#인식안된 파일의 인덱스\n",
        "train_test_df['filename'][train_test_df['filename'].isnull()]"
      ],
      "metadata": {
        "id": "r4nFEMbjGG6N",
        "colab": {
          "base_uri": "https://localhost:8080/"
        },
        "outputId": "0c5e3ee6-b9f8-42ce-b4ec-21a88d67d495"
      },
      "execution_count": null,
      "outputs": [
        {
          "output_type": "execute_result",
          "data": {
            "text/plain": [
              "780      NaN\n",
              "1319     NaN\n",
              "1560     NaN\n",
              "1670     NaN\n",
              "2605     NaN\n",
              "2781     NaN\n",
              "2914     NaN\n",
              "3166     NaN\n",
              "3481     NaN\n",
              "3740     NaN\n",
              "3741     NaN\n",
              "3742     NaN\n",
              "3743     NaN\n",
              "3744     NaN\n",
              "3745     NaN\n",
              "3746     NaN\n",
              "3747     NaN\n",
              "3748     NaN\n",
              "3749     NaN\n",
              "3750     NaN\n",
              "3914     NaN\n",
              "4211     NaN\n",
              "4365     NaN\n",
              "4729     NaN\n",
              "4861     NaN\n",
              "5670     NaN\n",
              "5674     NaN\n",
              "5675     NaN\n",
              "5730     NaN\n",
              "5961     NaN\n",
              "6265     NaN\n",
              "6874     NaN\n",
              "8144     NaN\n",
              "8145     NaN\n",
              "8150     NaN\n",
              "8270     NaN\n",
              "8271     NaN\n",
              "8348     NaN\n",
              "8403     NaN\n",
              "8865     NaN\n",
              "9249     NaN\n",
              "9488     NaN\n",
              "9492     NaN\n",
              "10052    NaN\n",
              "10053    NaN\n",
              "10592    NaN\n",
              "11141    NaN\n",
              "11241    NaN\n",
              "11372    NaN\n",
              "11702    NaN\n",
              "11703    NaN\n",
              "11878    NaN\n",
              "11879    NaN\n",
              "12461    NaN\n",
              "12462    NaN\n",
              "12615    NaN\n",
              "12616    NaN\n",
              "13298    NaN\n",
              "13958    NaN\n",
              "15057    NaN\n",
              "Name: filename, dtype: object"
            ]
          },
          "metadata": {},
          "execution_count": 45
        }
      ]
    },
    {
      "cell_type": "code",
      "source": [
        "#결측치 개수\n",
        "train_test_df.isnull().sum()"
      ],
      "metadata": {
        "colab": {
          "base_uri": "https://localhost:8080/"
        },
        "id": "LN_d8XZGxq_I",
        "outputId": "2b0fd90e-6ee2-4d6e-c3e4-a345dbf20a51"
      },
      "execution_count": null,
      "outputs": [
        {
          "output_type": "execute_result",
          "data": {
            "text/plain": [
              "filename      60\n",
              "leye_ratio    60\n",
              "reye_ratio    60\n",
              "eye_angle     60\n",
              "nose_ratio    60\n",
              "chin_sharp    60\n",
              "dtype: int64"
            ]
          },
          "metadata": {},
          "execution_count": 40
        }
      ]
    },
    {
      "cell_type": "code",
      "source": [
        "train_test_df.to_csv('/content/drive/MyDrive/matlab 공모전/csv(표)/TrainTest_feature.csv', mode = 'a', index = \"False\")"
      ],
      "metadata": {
        "id": "i1cFHkFIXMH0"
      },
      "execution_count": null,
      "outputs": []
    },
    {
      "cell_type": "markdown",
      "source": [
        "#여기까지야!밑은 안돌려도됑"
      ],
      "metadata": {
        "id": "e7W4ZZEkYETf"
      }
    },
    {
      "cell_type": "markdown",
      "metadata": {
        "id": "B6Svnu7lcrNl"
      },
      "source": [
        "        #특성추출 코드 덧붙임\n",
        "        for box in faces:\n",
        "          x1 = box.left()\n",
        "          y1 = box.top()\n",
        "          x2 = box.right()\n",
        "          y2 = box.bottom()\n",
        "          dlib_rect = dlib.rectangle(x1, y1, x2, y2)\n",
        "          landmarks = np.array([[p.x, p.y] for p in predictor(img, dlib_rect).parts()])\n",
        "          landmarks_display = landmarks[0:68]\n",
        "\n",
        "        # 검출된 얼굴 영역과 특징점을 그리기 위해 numpy 배열로 변환\n",
        "          points = np.zeros((68, 2), dtype=int)\n",
        "          for i in range(0, 68):\n",
        "               points[i] = landmarks[i]\n",
        "\n",
        "          # 얼굴 영역과 특징점을 이미지에 그림\n",
        "          cv2.rectangle(img,( box.left(), box.top()), (box.right(), box.bottom()), (0, 255, 0), 2)\n",
        "          for (x, y) in points:\n",
        "                cv2.circle(img, (x, y), 2, (0, 0, 255), -1)\n",
        "          #cv2_imshow(img)\n",
        "          print(filename)\n",
        "\n",
        "          #눈 비율 특징점\n",
        "          lefttop = [0,0]\n",
        "          leftbot = [0,0]\n",
        "          righttop = [0,0]\n",
        "          rightbot = [0,0]\n",
        "\n",
        "          leftle = np.squeeze(np.asarray(landmarks_display[36]))\n",
        "          leftri = np.squeeze(np.asarray(landmarks_display[39]))\n",
        "          lefttop1 = np.squeeze(np.asarray(landmarks_display[37]))\n",
        "          lefttop2 = np.squeeze(np.asarray(landmarks_display[38]))\n",
        "          leftbot1 = np.squeeze(np.asarray(landmarks_display[41]))\n",
        "          leftbot2 = np.squeeze(np.asarray(landmarks_display[40]))\n",
        "\n",
        "          lefttop[0] = (lefttop1[0]+lefttop2[0])/2\n",
        "          lefttop[1] =(lefttop1[1]+lefttop2[1])/2\n",
        "          leftbot[0] = (leftbot1[0]+leftbot2[0])/2\n",
        "          leftbot[1] = (leftbot1[1]+leftbot2[1])/2\n",
        "\n",
        "          rightle = np.squeeze(np.asarray(landmarks_display[42]))\n",
        "          rightri = np.squeeze(np.asarray(landmarks_display[45]))\n",
        "          righttop1 = np.squeeze(np.asarray(landmarks_display[43]))\n",
        "          righttop2 = np.squeeze(np.asarray(landmarks_display[44]))\n",
        "          rightbot1 = np.squeeze(np.asarray(landmarks_display[47]))\n",
        "          rightbot2 = np.squeeze(np.asarray(landmarks_display[46]))\n",
        "\n",
        "          righttop[0] = (lefttop1[0]+lefttop2[0])/2\n",
        "          righttop[1] =(lefttop1[1]+lefttop2[1])/2\n",
        "          rightbot[0] = (leftbot1[0]+leftbot2[0])/2\n",
        "          rightbot[1] = (leftbot1[1]+leftbot2[1])/2\n",
        "\n",
        "\n",
        "          #양눈 비율\n",
        "          leye_wid=math.sqrt((leftle[0]-leftri[0])**2+(leftle[1]-leftri[1])**2)\n",
        "          leye_hgt = math.sqrt((lefttop[0]-rightbot[0])**2+(lefttop[1]-leftbot[1])**2)\n",
        "\n",
        "          reye_wid =math.sqrt((rightle[0]-rightri[0])**2+(rightle[1]-rightri[1])**2)\n",
        "          reye_hgt =math.sqrt((righttop[0]-rightbot[0])**2+(righttop[1]-rightbot[1])**2)\n",
        "\n",
        "          leye_ratio = leye_hgt/leye_wid\n",
        "          reye_ratio = reye_hgt/reye_wid\n",
        "\n",
        "          #양눈 각도\n",
        "          #a =  np.squeeze(np.asarray(landmarks_display[27]))\n",
        "          #b=  np.squeeze(np.asarray(landmarks_display[30]))\n",
        "          c=  np.squeeze(np.asarray(landmarks_display[42]))\n",
        "          d =  np.squeeze(np.asarray(landmarks_display[45]))\n",
        "          e = np.squeeze(np.asarray(landmarks_display[36]))\n",
        "          f = np.squeeze(np.asarray(landmarks_display[39]))\n",
        "\n",
        "          #nose_vec = b-a\n",
        "          reye_vec = d-c\n",
        "          leye_vec = e-f\n",
        "\n",
        "          #reye_angle = angleBetweenTwo(nose_vec, reye_vec)\n",
        "          #leye_angle = angleBetweenTwo(nose_vec, leye_vec)\n",
        "          eye_angle = angleBetweenTwo(reye_vec, leye_vec)\n",
        "\n",
        "          #코 너비/길이 (얇은가, 넓은가?)\n",
        "          nosele = np.squeeze(np.asarray(landmarks_display[31]))\n",
        "          noseri = np.squeeze(np.asarray(landmarks_display[35]))\n",
        "          nosetop = np.squeeze(np.asarray(landmarks_display[27]))\n",
        "          nosebot = np.squeeze(np.asarray(landmarks_display[33]))\n",
        "\n",
        "          nose_wid=math.sqrt((nosele[0]-noseri[0])**2+(nosele[1]-noseri[1])**2)\n",
        "          nose_hgt = math.sqrt((nosetop[0]-nosebot[0])**2+(nosetop[1]-nosebot[1])**2)\n",
        "          nose_ratio = nose_wid/nose_hgt\n",
        "\n",
        "          #좁아지는각도\n",
        "          left =  np.squeeze(np.asarray(landmarks_display[5]))\n",
        "          chinbot =  np.squeeze(np.asarray(landmarks_display[8]))\n",
        "          right =  np.squeeze(np.asarray(landmarks_display[11]))\n",
        "\n",
        "\n",
        "          l = chinbot-left\n",
        "          r = chinbot-right\n",
        "\n",
        "          chin_sharp =  angleBetweenTwo(l, r)\n",
        "          df.iloc[j][0] = filename\n",
        "          df.iloc[j][1] = leye_ratio\n",
        "          df.iloc[j][2] = reye_ratio\n",
        "          df.iloc[j][3] = eye_angle\n",
        "          df.iloc[j][4] = nose_ratio\n",
        "          df.iloc[j][5] = chin_sharp\n",
        "          j+=1\n",
        "          count+=1"
      ]
    },
    {
      "cell_type": "markdown",
      "source": [
        "### 특징점 사진(annoted) 저장\n",
        "       # 검출된 얼굴 영역을 기반으로 얼굴 특징점을 인식\n",
        "        #count+=1\n",
        "        for face in faces:\n",
        "            landmarks = predictor(gray, face)\n",
        "            # 검출된 얼굴 영역과 특징점을 그리기 위해 numpy 배열로 변환\n",
        "            points = np.zeros((68, 2), dtype=int)\n",
        "            for i in range(0, 68):\n",
        "                points[i] = (landmarks.part(i).x, landmarks.part(i).y)\n",
        "\n",
        "            # 얼굴 영역과 특징점을 이미지에 그림\n",
        "            cv2.rectangle(img, (face.left(), face.top()), (face.right(), face.bottom()), (0, 255, 0), 2)\n",
        "            for (x, y) in points:\n",
        "                cv2.circle(img, (x, y), 2, (0, 0, 255), -1)\n",
        "            # 인식된 얼굴 영역과 특징점이 그려진 이미지를 출력\n",
        "            cv2_imshow(img)\n",
        "\n",
        "            # 이미지를 저장할 경로와 이름 지정\n",
        "            annoted_name = 'annoted_'+filename\n",
        "            save_path = os.path.join(face_dir_path, annoted_name)\n",
        "            # 이미지 저장\n",
        "            cv2.imwrite(save_path, img)\n",
        "            cv2.waitKey()\n",
        "            cv2.destroyAllWindows()\n"
      ],
      "metadata": {
        "id": "aJi9OuNfRQLV"
      }
    },
    {
      "cell_type": "code",
      "execution_count": null,
      "metadata": {
        "colab": {
          "base_uri": "https://localhost:8080/",
          "height": 423
        },
        "id": "k8gUgCcwVoTz",
        "outputId": "8fa2342f-7766-4617-d850-4392088e40a0"
      },
      "outputs": [
        {
          "data": {
            "text/html": [
              "\n",
              "\n",
              "  <div id=\"df-d684c63f-3366-47a2-be53-c30edd06c296\">\n",
              "    <div class=\"colab-df-container\">\n",
              "      <div>\n",
              "<style scoped>\n",
              "    .dataframe tbody tr th:only-of-type {\n",
              "        vertical-align: middle;\n",
              "    }\n",
              "\n",
              "    .dataframe tbody tr th {\n",
              "        vertical-align: top;\n",
              "    }\n",
              "\n",
              "    .dataframe thead th {\n",
              "        text-align: right;\n",
              "    }\n",
              "</style>\n",
              "<table border=\"1\" class=\"dataframe\">\n",
              "  <thead>\n",
              "    <tr style=\"text-align: right;\">\n",
              "      <th></th>\n",
              "      <th>filename</th>\n",
              "    </tr>\n",
              "  </thead>\n",
              "  <tbody>\n",
              "    <tr>\n",
              "      <th>0</th>\n",
              "      <td>Tora_Takagi_0001.jpg</td>\n",
              "    </tr>\n",
              "    <tr>\n",
              "      <th>1</th>\n",
              "      <td>Tyler_Hamilton_0001.jpg</td>\n",
              "    </tr>\n",
              "    <tr>\n",
              "      <th>2</th>\n",
              "      <td>Wolfgang_Schneiderhan_0001.jpg</td>\n",
              "    </tr>\n",
              "    <tr>\n",
              "      <th>3</th>\n",
              "      <td>Yasser_Arafat_0001.jpg</td>\n",
              "    </tr>\n",
              "    <tr>\n",
              "      <th>4</th>\n",
              "      <td>Woody_Allen_0001.jpg</td>\n",
              "    </tr>\n",
              "    <tr>\n",
              "      <th>...</th>\n",
              "      <td>...</td>\n",
              "    </tr>\n",
              "    <tr>\n",
              "      <th>83</th>\n",
              "      <td>Annika_Sorenstam_0001.jpg</td>\n",
              "    </tr>\n",
              "    <tr>\n",
              "      <th>84</th>\n",
              "      <td>Aung_San_Suu_Kyi_0001.jpg</td>\n",
              "    </tr>\n",
              "    <tr>\n",
              "      <th>85</th>\n",
              "      <td>Bronson_Arroyo_0001.jpg</td>\n",
              "    </tr>\n",
              "    <tr>\n",
              "      <th>86</th>\n",
              "      <td>Brian_Schneider_0001.jpg</td>\n",
              "    </tr>\n",
              "    <tr>\n",
              "      <th>87</th>\n",
              "      <td>Jeffrey_Katzenberg_0001.jpg</td>\n",
              "    </tr>\n",
              "  </tbody>\n",
              "</table>\n",
              "<p>88 rows × 1 columns</p>\n",
              "</div>\n",
              "      <button class=\"colab-df-convert\" onclick=\"convertToInteractive('df-d684c63f-3366-47a2-be53-c30edd06c296')\"\n",
              "              title=\"Convert this dataframe to an interactive table.\"\n",
              "              style=\"display:none;\">\n",
              "\n",
              "  <svg xmlns=\"http://www.w3.org/2000/svg\" height=\"24px\"viewBox=\"0 0 24 24\"\n",
              "       width=\"24px\">\n",
              "    <path d=\"M0 0h24v24H0V0z\" fill=\"none\"/>\n",
              "    <path d=\"M18.56 5.44l.94 2.06.94-2.06 2.06-.94-2.06-.94-.94-2.06-.94 2.06-2.06.94zm-11 1L8.5 8.5l.94-2.06 2.06-.94-2.06-.94L8.5 2.5l-.94 2.06-2.06.94zm10 10l.94 2.06.94-2.06 2.06-.94-2.06-.94-.94-2.06-.94 2.06-2.06.94z\"/><path d=\"M17.41 7.96l-1.37-1.37c-.4-.4-.92-.59-1.43-.59-.52 0-1.04.2-1.43.59L10.3 9.45l-7.72 7.72c-.78.78-.78 2.05 0 2.83L4 21.41c.39.39.9.59 1.41.59.51 0 1.02-.2 1.41-.59l7.78-7.78 2.81-2.81c.8-.78.8-2.07 0-2.86zM5.41 20L4 18.59l7.72-7.72 1.47 1.35L5.41 20z\"/>\n",
              "  </svg>\n",
              "      </button>\n",
              "\n",
              "\n",
              "\n",
              "    <div id=\"df-176ab6d3-5c63-4ab2-b84c-ebc074a3b1b7\">\n",
              "      <button class=\"colab-df-quickchart\" onclick=\"quickchart('df-176ab6d3-5c63-4ab2-b84c-ebc074a3b1b7')\"\n",
              "              title=\"Suggest charts.\"\n",
              "              style=\"display:none;\">\n",
              "\n",
              "<svg xmlns=\"http://www.w3.org/2000/svg\" height=\"24px\"viewBox=\"0 0 24 24\"\n",
              "     width=\"24px\">\n",
              "    <g>\n",
              "        <path d=\"M19 3H5c-1.1 0-2 .9-2 2v14c0 1.1.9 2 2 2h14c1.1 0 2-.9 2-2V5c0-1.1-.9-2-2-2zM9 17H7v-7h2v7zm4 0h-2V7h2v10zm4 0h-2v-4h2v4z\"/>\n",
              "    </g>\n",
              "</svg>\n",
              "      </button>\n",
              "    </div>\n",
              "\n",
              "<style>\n",
              "  .colab-df-quickchart {\n",
              "    background-color: #E8F0FE;\n",
              "    border: none;\n",
              "    border-radius: 50%;\n",
              "    cursor: pointer;\n",
              "    display: none;\n",
              "    fill: #1967D2;\n",
              "    height: 32px;\n",
              "    padding: 0 0 0 0;\n",
              "    width: 32px;\n",
              "  }\n",
              "\n",
              "  .colab-df-quickchart:hover {\n",
              "    background-color: #E2EBFA;\n",
              "    box-shadow: 0px 1px 2px rgba(60, 64, 67, 0.3), 0px 1px 3px 1px rgba(60, 64, 67, 0.15);\n",
              "    fill: #174EA6;\n",
              "  }\n",
              "\n",
              "  [theme=dark] .colab-df-quickchart {\n",
              "    background-color: #3B4455;\n",
              "    fill: #D2E3FC;\n",
              "  }\n",
              "\n",
              "  [theme=dark] .colab-df-quickchart:hover {\n",
              "    background-color: #434B5C;\n",
              "    box-shadow: 0px 1px 3px 1px rgba(0, 0, 0, 0.15);\n",
              "    filter: drop-shadow(0px 1px 2px rgba(0, 0, 0, 0.3));\n",
              "    fill: #FFFFFF;\n",
              "  }\n",
              "</style>\n",
              "\n",
              "    <script>\n",
              "      async function quickchart(key) {\n",
              "        const containerElement = document.querySelector('#' + key);\n",
              "        const charts = await google.colab.kernel.invokeFunction(\n",
              "            'suggestCharts', [key], {});\n",
              "      }\n",
              "    </script>\n",
              "\n",
              "      <script>\n",
              "\n",
              "function displayQuickchartButton(domScope) {\n",
              "  let quickchartButtonEl =\n",
              "    domScope.querySelector('#df-176ab6d3-5c63-4ab2-b84c-ebc074a3b1b7 button.colab-df-quickchart');\n",
              "  quickchartButtonEl.style.display =\n",
              "    google.colab.kernel.accessAllowed ? 'block' : 'none';\n",
              "}\n",
              "\n",
              "        displayQuickchartButton(document);\n",
              "      </script>\n",
              "      <style>\n",
              "    .colab-df-container {\n",
              "      display:flex;\n",
              "      flex-wrap:wrap;\n",
              "      gap: 12px;\n",
              "    }\n",
              "\n",
              "    .colab-df-convert {\n",
              "      background-color: #E8F0FE;\n",
              "      border: none;\n",
              "      border-radius: 50%;\n",
              "      cursor: pointer;\n",
              "      display: none;\n",
              "      fill: #1967D2;\n",
              "      height: 32px;\n",
              "      padding: 0 0 0 0;\n",
              "      width: 32px;\n",
              "    }\n",
              "\n",
              "    .colab-df-convert:hover {\n",
              "      background-color: #E2EBFA;\n",
              "      box-shadow: 0px 1px 2px rgba(60, 64, 67, 0.3), 0px 1px 3px 1px rgba(60, 64, 67, 0.15);\n",
              "      fill: #174EA6;\n",
              "    }\n",
              "\n",
              "    [theme=dark] .colab-df-convert {\n",
              "      background-color: #3B4455;\n",
              "      fill: #D2E3FC;\n",
              "    }\n",
              "\n",
              "    [theme=dark] .colab-df-convert:hover {\n",
              "      background-color: #434B5C;\n",
              "      box-shadow: 0px 1px 3px 1px rgba(0, 0, 0, 0.15);\n",
              "      filter: drop-shadow(0px 1px 2px rgba(0, 0, 0, 0.3));\n",
              "      fill: #FFFFFF;\n",
              "    }\n",
              "  </style>\n",
              "\n",
              "      <script>\n",
              "        const buttonEl =\n",
              "          document.querySelector('#df-d684c63f-3366-47a2-be53-c30edd06c296 button.colab-df-convert');\n",
              "        buttonEl.style.display =\n",
              "          google.colab.kernel.accessAllowed ? 'block' : 'none';\n",
              "\n",
              "        async function convertToInteractive(key) {\n",
              "          const element = document.querySelector('#df-d684c63f-3366-47a2-be53-c30edd06c296');\n",
              "          const dataTable =\n",
              "            await google.colab.kernel.invokeFunction('convertToInteractive',\n",
              "                                                     [key], {});\n",
              "          if (!dataTable) return;\n",
              "\n",
              "          const docLinkHtml = 'Like what you see? Visit the ' +\n",
              "            '<a target=\"_blank\" href=https://colab.research.google.com/notebooks/data_table.ipynb>data table notebook</a>'\n",
              "            + ' to learn more about interactive tables.';\n",
              "          element.innerHTML = '';\n",
              "          dataTable['output_type'] = 'display_data';\n",
              "          await google.colab.output.renderOutput(dataTable, element);\n",
              "          const docLink = document.createElement('div');\n",
              "          docLink.innerHTML = docLinkHtml;\n",
              "          element.appendChild(docLink);\n",
              "        }\n",
              "      </script>\n",
              "    </div>\n",
              "  </div>\n"
            ],
            "text/plain": [
              "                          filename\n",
              "0             Tora_Takagi_0001.jpg\n",
              "1          Tyler_Hamilton_0001.jpg\n",
              "2   Wolfgang_Schneiderhan_0001.jpg\n",
              "3           Yasser_Arafat_0001.jpg\n",
              "4             Woody_Allen_0001.jpg\n",
              "..                             ...\n",
              "83       Annika_Sorenstam_0001.jpg\n",
              "84       Aung_San_Suu_Kyi_0001.jpg\n",
              "85         Bronson_Arroyo_0001.jpg\n",
              "86        Brian_Schneider_0001.jpg\n",
              "87     Jeffrey_Katzenberg_0001.jpg\n",
              "\n",
              "[88 rows x 1 columns]"
            ]
          },
          "execution_count": 11,
          "metadata": {},
          "output_type": "execute_result"
        }
      ],
      "source": [
        "no_reg_df.dropna()"
      ]
    },
    {
      "cell_type": "code",
      "execution_count": null,
      "metadata": {
        "colab": {
          "base_uri": "https://localhost:8080/"
        },
        "id": "JYoRJx0RfhRz",
        "outputId": "84c5acd1-75b1-4257-a87b-81168b0308ce"
      },
      "outputs": [
        {
          "name": "stdout",
          "output_type": "stream",
          "text": [
            "Nothing\n",
            "Nothing\n",
            "Nothing\n",
            "Nothing\n",
            "Nothing\n",
            "Nothing\n",
            "Nothing\n",
            "Nothing\n",
            "Nothing\n",
            "Nothing\n",
            "Nothing\n",
            "Nothing\n",
            "Nothing\n",
            "Nothing\n",
            "Nothing\n",
            "Nothing\n",
            "Nothing\n",
            "Nothing\n",
            "Nothing\n",
            "Nothing\n",
            "Nothing\n",
            "Nothing\n",
            "Nothing\n",
            "Nothing\n",
            "Nothing\n",
            "Nothing\n",
            "Nothing\n",
            "Nothing\n",
            "Nothing\n",
            "Nothing\n",
            "Nothing\n",
            "Nothing\n",
            "Nothing\n",
            "Nothing\n",
            "Nothing\n",
            "Nothing\n",
            "Nothing\n",
            "Nothing\n",
            "Nothing\n",
            "Nothing\n",
            "Nothing\n",
            "Nothing\n",
            "Nothing\n",
            "Nothing\n",
            "Nothing\n",
            "Nothing\n",
            "Nothing\n",
            "Nothing\n",
            "Nothing\n",
            "Nothing\n",
            "Nothing\n",
            "Nothing\n",
            "Nothing\n",
            "Nothing\n",
            "Nothing\n",
            "Nothing\n",
            "Nothing\n",
            "Nothing\n",
            "Nothing\n",
            "Nothing\n",
            "Nothing\n",
            "Nothing\n",
            "Nothing\n",
            "Nothing\n",
            "Nothing\n",
            "Nothing\n",
            "Nothing\n",
            "Nothing\n",
            "Nothing\n",
            "Nothing\n",
            "Nothing\n",
            "Nothing\n",
            "Nothing\n",
            "Nothing\n",
            "Nothing\n",
            "Nothing\n",
            "Nothing\n",
            "Nothing\n",
            "Nothing\n",
            "Nothing\n",
            "Nothing\n",
            "Nothing\n",
            "Nothing\n",
            "Nothing\n",
            "Nothing\n",
            "Nothing\n",
            "Nothing\n",
            "Nothing\n",
            "Nothing\n",
            "Nothing\n",
            "Nothing\n",
            "Nothing\n",
            "Nothing\n",
            "Nothing\n",
            "Nothing\n",
            "Nothing\n",
            "Nothing\n",
            "Nothing\n",
            "Nothing\n",
            "Nothing\n"
          ]
        }
      ],
      "source": [
        "#파일 다른디렉토리로 이동\n",
        "import shutil\n",
        "import os\n",
        "import os.path\n",
        "file_source = '/content/drive/MyDrive/matlab 공모전/data file/crop_data/'\n",
        "file_dst = '/content/drive/MyDrive/matlab 공모전/data file/trash_data/'\n",
        "file_names = no_reg_df['filename']\n",
        "\n",
        "for filename in os.listdir(file_source):\n",
        "    src_name = os.path.join(file_source,filename)\n",
        "    if os.path.exists(src_name):\n",
        "      #print(\"Something exist\")\n",
        "      img = cv2.imread(src_name)\n",
        "      trash_name = 'trash_'+filename\n",
        "      #이미지 이동\n",
        "      shutil.move(src_name,trash_name)\n",
        "      # 이미지 저장\n",
        "      save_path = os.path.join(file_dst, trash_name)\n",
        "      cv2.imwrite(save_path, img)\n",
        "    else :\n",
        "      print(\"Nothing\")"
      ]
    },
    {
      "cell_type": "code",
      "execution_count": null,
      "metadata": {
        "colab": {
          "base_uri": "https://localhost:8080/"
        },
        "id": "BDCJn2onW8xb",
        "outputId": "8fa307c9-c727-4644-e9d6-261b994d0aa6"
      },
      "outputs": [
        {
          "data": {
            "text/plain": [
              "0"
            ]
          },
          "execution_count": 17,
          "metadata": {},
          "output_type": "execute_result"
        }
      ],
      "source": [
        "count"
      ]
    },
    {
      "cell_type": "code",
      "execution_count": null,
      "metadata": {
        "id": "4l7MuLmAT873"
      },
      "outputs": [],
      "source": [
        "df = df.dropna()"
      ]
    },
    {
      "cell_type": "code",
      "execution_count": null,
      "metadata": {
        "id": "c6hdyV8SY8rg"
      },
      "outputs": [],
      "source": [
        "df"
      ]
    },
    {
      "cell_type": "code",
      "execution_count": null,
      "metadata": {
        "id": "94jaLGuwT-2j"
      },
      "outputs": [],
      "source": [
        "#df.to_csv(\"/content/drive/MyDrive/matlab 공모전/csv(표)/[ 이름 ]feature.csv\", mode = 'a', index = False)"
      ]
    }
  ],
  "metadata": {
    "colab": {
      "provenance": []
    },
    "kernelspec": {
      "display_name": "Python 3",
      "name": "python3"
    },
    "language_info": {
      "name": "python"
    }
  },
  "nbformat": 4,
  "nbformat_minor": 0
}
